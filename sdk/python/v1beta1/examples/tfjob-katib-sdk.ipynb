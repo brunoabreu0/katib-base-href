{
 "cells": [
  {
   "cell_type": "code",
   "execution_count": 4,
   "metadata": {
    "scrolled": true
   },
   "outputs": [],
   "source": [
    "from kubernetes.client import V1ObjectMeta\n",
    "import kubeflow.katib as kc\n",
    "from kubeflow.katib import constants\n",
    "from kubeflow.katib import utils\n",
    "from kubeflow.katib import V1alpha3AlgorithmSetting\n",
    "from kubeflow.katib import V1alpha3AlgorithmSetting\n",
    "from kubeflow.katib import V1alpha3AlgorithmSpec\n",
    "from kubeflow.katib import V1alpha3CollectorSpec\n",
    "from kubeflow.katib import V1alpha3EarlyStoppingSetting\n",
    "from kubeflow.katib import V1alpha3EarlyStoppingSpec\n",
    "from kubeflow.katib import V1alpha3Experiment\n",
    "from kubeflow.katib import V1alpha3ExperimentCondition\n",
    "from kubeflow.katib import V1alpha3ExperimentList\n",
    "from kubeflow.katib import V1alpha3ExperimentSpec\n",
    "from kubeflow.katib import V1alpha3ExperimentStatus\n",
    "from kubeflow.katib import V1alpha3FeasibleSpace\n",
    "from kubeflow.katib import V1alpha3FileSystemPath\n",
    "from kubeflow.katib import V1alpha3FilterSpec\n",
    "from kubeflow.katib import V1alpha3GoTemplate\n",
    "from kubeflow.katib import V1alpha3GraphConfig\n",
    "from kubeflow.katib import V1alpha3Metric\n",
    "from kubeflow.katib import V1alpha3MetricsCollectorSpec\n",
    "from kubeflow.katib import V1alpha3NasConfig\n",
    "from kubeflow.katib import V1alpha3ObjectiveSpec\n",
    "from kubeflow.katib import V1alpha3Observation\n",
    "from kubeflow.katib import V1alpha3Operation\n",
    "from kubeflow.katib import V1alpha3OptimalTrial\n",
    "from kubeflow.katib import V1alpha3ParameterAssignment\n",
    "from kubeflow.katib import V1alpha3ParameterSpec\n",
    "from kubeflow.katib import V1alpha3SourceSpec\n",
    "from kubeflow.katib import V1alpha3Suggestion\n",
    "from kubeflow.katib import V1alpha3SuggestionCondition\n",
    "from kubeflow.katib import V1alpha3SuggestionList\n",
    "from kubeflow.katib import V1alpha3SuggestionSpec\n",
    "from kubeflow.katib import V1alpha3SuggestionStatus\n",
    "from kubeflow.katib import V1alpha3TemplateSpec\n",
    "from kubeflow.katib import V1alpha3Trial\n",
    "from kubeflow.katib import V1alpha3TrialAssignment\n",
    "from kubeflow.katib import V1alpha3TrialCondition\n",
    "from kubeflow.katib import V1alpha3TrialList\n",
    "from kubeflow.katib import V1alpha3TrialSpec\n",
    "from kubeflow.katib import V1alpha3TrialStatus\n",
    "from kubeflow.katib import V1alpha3TrialTemplate"
   ]
  },
  {
   "cell_type": "code",
   "execution_count": 5,
   "metadata": {},
   "outputs": [],
   "source": [
    "algorithmsettings = V1alpha3AlgorithmSetting(\n",
    "    name= None,\n",
    "    value = None\n",
    "    )\n",
    "algorithm = V1alpha3AlgorithmSpec(\n",
    "    algorithm_name = \"random\",\n",
    "    algorithm_settings = [algorithmsettings]\n",
    "  )\n",
    "\n",
    "# Metric Collector\n",
    "collector = V1alpha3CollectorSpec(kind = \"TensorFlowEvent\")\n",
    "FileSystemPath = V1alpha3FileSystemPath(kind = \"/train\" , path = \"Directory\")\n",
    "metrics_collector_spec = V1alpha3MetricsCollectorSpec(\n",
    "    collector = collector,\n",
    "    source = FileSystemPath)\n",
    "\n",
    "# Objective\n",
    "objective = V1alpha3ObjectiveSpec(\n",
    "    goal = 0.9999,\n",
    "    objective_metric_name = \"accuracy_1\",\n",
    "    type = \"maximize\")\n",
    "\n",
    "# Parameters\n",
    "feasible_space = V1alpha3FeasibleSpace(min = \"100\", max = \"200\")\n",
    "parameters = [V1alpha3ParameterSpec(\n",
    "    feasible_space = feasible_space, \n",
    "    name = \"--batch_size\",\n",
    "    parameter_type = \"int\"\n",
    "    )]\n",
    "\n",
    "# Trialtemplate\n",
    "go_template = V1alpha3GoTemplate(\n",
    "    raw_template =   \"apiVersion: \\\"kubeflow.org/v1\\\"\\nkind: TFJob\\nmetadata:\\n  name: {{.Trial}}\\n  namespace: {{.NameSpace}}\\nspec:\\n tfReplicaSpecs:\\n  Worker:\\n    replicas: 1\\n    restartPolicy: OnFailure\\n    template:\\n      spec:\\n        containers:\\n          - name: tensorflow\\n            image: gcr.io/kubeflow-ci/tf-mnist-with-summaries:1.0\\n            imagePullPolicy: Always\\n            command:\\n              - \\\"python\\\"\\n              - \\\"/var/tf_mnist/mnist_with_summaries.py\\\"\\n              - \\\"--log_dir=/train/metrics\\\"\\n              {{- with .HyperParameters}}\\n              {{- range .}}\\n              - \\\"{{.Name}}={{.Value}}\\\"\\n              {{- end}}\\n              {{- end}}\"\n",
    "    )\n",
    "\n",
    "\n",
    "trial_template= V1alpha3TrialTemplate(go_template=go_template)\n",
    "\n",
    "\n",
    "# Experiment\n",
    "experiment = V1alpha3Experiment(\n",
    "    api_version=\"kubeflow.org/v1alpha3\",\n",
    "    kind=\"Experiment\",\n",
    "    metadata=V1ObjectMeta(name=\"tfjob-example\",namespace=\"anonymous\"),\n",
    "\n",
    "    spec=V1alpha3ExperimentSpec(\n",
    "         algorithm = algorithm,\n",
    "         max_failed_trial_count=3,\n",
    "         max_trial_count=12,\n",
    "         metrics_collector_spec= metrics_collector_spec ,\n",
    "         objective = objective,\n",
    "         parallel_trial_count=4,\n",
    "         parameters = parameters ,\n",
    "         trial_template = trial_template\n",
    "    )\n",
    ")"
   ]
  },
  {
   "cell_type": "code",
   "execution_count": 6,
   "metadata": {},
   "outputs": [],
   "source": [
    "namespace = kc.utils.get_default_target_namespace()"
   ]
  },
  {
   "cell_type": "code",
   "execution_count": 7,
   "metadata": {},
   "outputs": [],
   "source": [
    "kclient = kc.KatibClient()"
   ]
  },
  {
   "cell_type": "markdown",
   "metadata": {},
   "source": [
    "## Create Experiment"
   ]
  },
  {
   "cell_type": "code",
   "execution_count": 8,
   "metadata": {},
   "outputs": [
    {
     "data": {
      "text/html": [
       "Katib Experiment link <a href=\"/_/katib/#/katib/hp_monitor/anonymous/tfjob-example\" target=\"_blank\">here</a>"
      ],
      "text/plain": [
       "<IPython.core.display.HTML object>"
      ]
     },
     "metadata": {},
     "output_type": "execute_result"
    },
    {
     "data": {
      "text/plain": [
       "{'apiVersion': 'kubeflow.org/v1alpha3',\n",
       " 'kind': 'Experiment',\n",
       " 'metadata': {'creationTimestamp': '2020-03-04T10:50:02Z',\n",
       "  'generation': 1,\n",
       "  'name': 'tfjob-example',\n",
       "  'namespace': 'anonymous',\n",
       "  'resourceVersion': '7037041',\n",
       "  'selfLink': '/apis/kubeflow.org/v1alpha3/namespaces/anonymous/experiments/tfjob-example',\n",
       "  'uid': 'e6d578d8-5e05-11ea-8d71-42010aa00012'},\n",
       " 'spec': {'algorithm': {'algorithmName': 'random', 'algorithmSettings': [{}]},\n",
       "  'maxFailedTrialCount': 3,\n",
       "  'maxTrialCount': 12,\n",
       "  'metricsCollectorSpec': {'collector': {'kind': 'TensorFlowEvent'},\n",
       "   'source': {'fileSystemPath': {'kind': 'Directory',\n",
       "     'path': '/var/log/katib/tfevent/'},\n",
       "    'kind': '/train',\n",
       "    'path': 'Directory'}},\n",
       "  'objective': {'goal': 0.9999,\n",
       "   'objectiveMetricName': 'accuracy_1',\n",
       "   'type': 'maximize'},\n",
       "  'parallelTrialCount': 4,\n",
       "  'parameters': [{'feasibleSpace': {'max': '200', 'min': '100'},\n",
       "    'name': '--batch_size',\n",
       "    'parameterType': 'int'}],\n",
       "  'trialTemplate': {'goTemplate': {'rawTemplate': 'apiVersion: \"kubeflow.org/v1\"\\nkind: TFJob\\nmetadata:\\n  name: {{.Trial}}\\n  namespace: {{.NameSpace}}\\nspec:\\n tfReplicaSpecs:\\n  Worker:\\n    replicas: 1\\n    restartPolicy: OnFailure\\n    template:\\n      spec:\\n        containers:\\n          - name: tensorflow\\n            image: gcr.io/kubeflow-ci/tf-mnist-with-summaries:1.0\\n            imagePullPolicy: Always\\n            command:\\n              - \"python\"\\n              - \"/var/tf_mnist/mnist_with_summaries.py\"\\n              - \"--log_dir=/train/metrics\"\\n              {{- with .HyperParameters}}\\n              {{- range .}}\\n              - \"{{.Name}}={{.Value}}\"\\n              {{- end}}\\n              {{- end}}'}}}}"
      ]
     },
     "execution_count": 8,
     "metadata": {},
     "output_type": "execute_result"
    }
   ],
   "source": [
    "kclient.create_experiment(experiment,namespace=namespace)"
   ]
  },
  {
   "cell_type": "markdown",
   "metadata": {},
   "source": [
    "## Get Single Experiment"
   ]
  },
  {
   "cell_type": "code",
   "execution_count": 9,
   "metadata": {},
   "outputs": [
    {
     "data": {
      "text/plain": [
       "{'apiVersion': 'kubeflow.org/v1alpha3',\n",
       " 'kind': 'Experiment',\n",
       " 'metadata': {'creationTimestamp': '2020-03-04T10:50:02Z',\n",
       "  'finalizers': ['update-prometheus-metrics'],\n",
       "  'generation': 2,\n",
       "  'name': 'tfjob-example',\n",
       "  'namespace': 'anonymous',\n",
       "  'resourceVersion': '7037043',\n",
       "  'selfLink': '/apis/kubeflow.org/v1alpha3/namespaces/anonymous/experiments/tfjob-example',\n",
       "  'uid': 'e6d578d8-5e05-11ea-8d71-42010aa00012'},\n",
       " 'spec': {'algorithm': {'algorithmName': 'random', 'algorithmSettings': [{}]},\n",
       "  'maxFailedTrialCount': 3,\n",
       "  'maxTrialCount': 12,\n",
       "  'metricsCollectorSpec': {'collector': {'kind': 'TensorFlowEvent'},\n",
       "   'source': {'fileSystemPath': {'kind': 'Directory',\n",
       "     'path': '/var/log/katib/tfevent/'}}},\n",
       "  'objective': {'goal': 0.9999,\n",
       "   'objectiveMetricName': 'accuracy_1',\n",
       "   'type': 'maximize'},\n",
       "  'parallelTrialCount': 4,\n",
       "  'parameters': [{'feasibleSpace': {'max': '200', 'min': '100'},\n",
       "    'name': '--batch_size',\n",
       "    'parameterType': 'int'}],\n",
       "  'trialTemplate': {'goTemplate': {'rawTemplate': 'apiVersion: \"kubeflow.org/v1\"\\nkind: TFJob\\nmetadata:\\n  name: {{.Trial}}\\n  namespace: {{.NameSpace}}\\nspec:\\n tfReplicaSpecs:\\n  Worker:\\n    replicas: 1\\n    restartPolicy: OnFailure\\n    template:\\n      spec:\\n        containers:\\n          - name: tensorflow\\n            image: gcr.io/kubeflow-ci/tf-mnist-with-summaries:1.0\\n            imagePullPolicy: Always\\n            command:\\n              - \"python\"\\n              - \"/var/tf_mnist/mnist_with_summaries.py\"\\n              - \"--log_dir=/train/metrics\"\\n              {{- with .HyperParameters}}\\n              {{- range .}}\\n              - \"{{.Name}}={{.Value}}\"\\n              {{- end}}\\n              {{- end}}'}}},\n",
       " 'status': {'completionTime': None,\n",
       "  'conditions': [{'lastTransitionTime': '2020-03-04T10:50:02Z',\n",
       "    'lastUpdateTime': '2020-03-04T10:50:02Z',\n",
       "    'message': 'Experiment is created',\n",
       "    'reason': 'ExperimentCreated',\n",
       "    'status': 'True',\n",
       "    'type': 'Created'}],\n",
       "  'currentOptimalTrial': {'bestTrialName': '',\n",
       "   'observation': {'metrics': None},\n",
       "   'parameterAssignments': None},\n",
       "  'startTime': '2020-03-04T10:50:02Z'}}"
      ]
     },
     "execution_count": 9,
     "metadata": {},
     "output_type": "execute_result"
    }
   ],
   "source": [
    "kclient.get_experiment(name=\"tfjob-example\", namespace=namespace)"
   ]
  },
  {
   "cell_type": "markdown",
   "metadata": {},
   "source": [
    "## Get all Experiments"
   ]
  },
  {
   "cell_type": "code",
   "execution_count": 10,
   "metadata": {},
   "outputs": [
    {
     "data": {
      "text/plain": [
       "{'apiVersion': 'kubeflow.org/v1alpha3',\n",
       " 'items': [{'apiVersion': 'kubeflow.org/v1alpha3',\n",
       "   'kind': 'Experiment',\n",
       "   'metadata': {'creationTimestamp': '2020-03-04T10:46:49Z',\n",
       "    'finalizers': ['update-prometheus-metrics'],\n",
       "    'generation': 1,\n",
       "    'name': 'bayesianoptimization',\n",
       "    'namespace': 'anonymous',\n",
       "    'resourceVersion': '7036404',\n",
       "    'selfLink': '/apis/kubeflow.org/v1alpha3/namespaces/anonymous/experiments/bayesianoptimization',\n",
       "    'uid': '7360157b-5e05-11ea-8d71-42010aa00012'},\n",
       "   'spec': {'algorithm': {'algorithmName': 'bayesianoptimization',\n",
       "     'algorithmSettings': [{'name': 'random_state', 'value': '10'}]},\n",
       "    'maxFailedTrialCount': 3,\n",
       "    'maxTrialCount': 5,\n",
       "    'metricsCollectorSpec': {'collector': {'kind': 'StdOut'}},\n",
       "    'objective': {'goal': 0.9999,\n",
       "     'objectiveMetricName': 'Validation-accuracy',\n",
       "     'type': 'maximize'},\n",
       "    'parallelTrialCount': 5,\n",
       "    'parameters': [{'feasibleSpace': {'list': ['sgd', 'adam', 'ftrl']},\n",
       "      'name': '--optimizer',\n",
       "      'parameterType': 'categorical'},\n",
       "     {'feasibleSpace': {'max': '0.03', 'min': '0.01'},\n",
       "      'name': '--lr',\n",
       "      'parameterType': 'double'},\n",
       "     {'feasibleSpace': {'max': '5', 'min': '2'},\n",
       "      'name': '--num-layers',\n",
       "      'parameterType': 'int'}],\n",
       "    'trialTemplate': {'goTemplate': {'rawTemplate': 'apiVersion: \"batch/v1\"\\nkind: Job\\nmetadata:\\n  name: {{.Trial}}\\n  namespace: {{.NameSpace}}\\nspec:\\n  template:\\n    spec:\\n      containers:\\n      - name: {{.Trial}}\\n        image: docker.io/kubeflowkatib/mxnet-mnist\\n        command:\\n        - \"python3\"\\n        - \"/opt/mxnet-mnist/mnist.py\"\\n        - \"--batch-size=64\"\\n        {{- with .HyperParameters}}\\n        {{- range .}}\\n        - \"{{.Name}}={{.Value}}\"\\n        {{- end}}\\n        {{- end}}\\n      restartPolicy: Never'}}},\n",
       "   'status': {'conditions': [{'lastTransitionTime': '2020-03-04T10:46:49Z',\n",
       "      'lastUpdateTime': '2020-03-04T10:46:49Z',\n",
       "      'message': 'Experiment is created',\n",
       "      'reason': 'ExperimentCreated',\n",
       "      'status': 'True',\n",
       "      'type': 'Created'},\n",
       "     {'lastTransitionTime': '2020-03-04T10:47:03Z',\n",
       "      'lastUpdateTime': '2020-03-04T10:47:03Z',\n",
       "      'message': 'Experiment is running',\n",
       "      'reason': 'ExperimentRunning',\n",
       "      'status': 'True',\n",
       "      'type': 'Running'}],\n",
       "    'currentOptimalTrial': {'bestTrialName': 'bayesianoptimization-d5blztvn',\n",
       "     'observation': {'metrics': [{'name': 'Validation-accuracy',\n",
       "        'value': 0.978404}]},\n",
       "     'parameterAssignments': [{'name': '--optimizer', 'value': 'sgd'},\n",
       "      {'name': '--lr', 'value': '0.021196507397563884'},\n",
       "      {'name': '--num-layers', 'value': '4'}]},\n",
       "    'runningTrialList': ['bayesianoptimization-gs7b6g25'],\n",
       "    'startTime': '2020-03-04T10:46:49Z',\n",
       "    'succeededTrialList': ['bayesianoptimization-52tsscjq',\n",
       "     'bayesianoptimization-65fnsn5t',\n",
       "     'bayesianoptimization-d5blztvn',\n",
       "     'bayesianoptimization-s8qwszvr'],\n",
       "    'trials': 5,\n",
       "    'trialsRunning': 1,\n",
       "    'trialsSucceeded': 4}},\n",
       "  {'apiVersion': 'kubeflow.org/v1alpha3',\n",
       "   'kind': 'Experiment',\n",
       "   'metadata': {'creationTimestamp': '2020-03-04T10:50:02Z',\n",
       "    'finalizers': ['update-prometheus-metrics'],\n",
       "    'generation': 2,\n",
       "    'name': 'tfjob-example',\n",
       "    'namespace': 'anonymous',\n",
       "    'resourceVersion': '7037043',\n",
       "    'selfLink': '/apis/kubeflow.org/v1alpha3/namespaces/anonymous/experiments/tfjob-example',\n",
       "    'uid': 'e6d578d8-5e05-11ea-8d71-42010aa00012'},\n",
       "   'spec': {'algorithm': {'algorithmName': 'random',\n",
       "     'algorithmSettings': [{}]},\n",
       "    'maxFailedTrialCount': 3,\n",
       "    'maxTrialCount': 12,\n",
       "    'metricsCollectorSpec': {'collector': {'kind': 'TensorFlowEvent'},\n",
       "     'source': {'fileSystemPath': {'kind': 'Directory',\n",
       "       'path': '/var/log/katib/tfevent/'}}},\n",
       "    'objective': {'goal': 0.9999,\n",
       "     'objectiveMetricName': 'accuracy_1',\n",
       "     'type': 'maximize'},\n",
       "    'parallelTrialCount': 4,\n",
       "    'parameters': [{'feasibleSpace': {'max': '200', 'min': '100'},\n",
       "      'name': '--batch_size',\n",
       "      'parameterType': 'int'}],\n",
       "    'trialTemplate': {'goTemplate': {'rawTemplate': 'apiVersion: \"kubeflow.org/v1\"\\nkind: TFJob\\nmetadata:\\n  name: {{.Trial}}\\n  namespace: {{.NameSpace}}\\nspec:\\n tfReplicaSpecs:\\n  Worker:\\n    replicas: 1\\n    restartPolicy: OnFailure\\n    template:\\n      spec:\\n        containers:\\n          - name: tensorflow\\n            image: gcr.io/kubeflow-ci/tf-mnist-with-summaries:1.0\\n            imagePullPolicy: Always\\n            command:\\n              - \"python\"\\n              - \"/var/tf_mnist/mnist_with_summaries.py\"\\n              - \"--log_dir=/train/metrics\"\\n              {{- with .HyperParameters}}\\n              {{- range .}}\\n              - \"{{.Name}}={{.Value}}\"\\n              {{- end}}\\n              {{- end}}'}}},\n",
       "   'status': {'completionTime': None,\n",
       "    'conditions': [{'lastTransitionTime': '2020-03-04T10:50:02Z',\n",
       "      'lastUpdateTime': '2020-03-04T10:50:02Z',\n",
       "      'message': 'Experiment is created',\n",
       "      'reason': 'ExperimentCreated',\n",
       "      'status': 'True',\n",
       "      'type': 'Created'}],\n",
       "    'currentOptimalTrial': {'bestTrialName': '',\n",
       "     'observation': {'metrics': None},\n",
       "     'parameterAssignments': None},\n",
       "    'startTime': '2020-03-04T10:50:02Z'}}],\n",
       " 'kind': 'ExperimentList',\n",
       " 'metadata': {'continue': '',\n",
       "  'resourceVersion': '7037091',\n",
       "  'selfLink': '/apis/kubeflow.org/v1alpha3/namespaces/anonymous/experiments'}}"
      ]
     },
     "execution_count": 10,
     "metadata": {},
     "output_type": "execute_result"
    }
   ],
   "source": [
    "kclient.get_experiment(namespace=namespace)"
   ]
  },
  {
   "cell_type": "markdown",
   "metadata": {},
   "source": [
    "## Get experiment status"
   ]
  },
  {
   "cell_type": "code",
   "execution_count": 11,
   "metadata": {},
   "outputs": [
    {
     "data": {
      "text/plain": [
       "'Created'"
      ]
     },
     "execution_count": 11,
     "metadata": {},
     "output_type": "execute_result"
    }
   ],
   "source": [
    "kclient.get_experiment_status(name=\"tfjob-example\", namespace=namespace)"
   ]
  },
  {
   "cell_type": "markdown",
   "metadata": {},
   "source": [
    "## Is experiment succeeded"
   ]
  },
  {
   "cell_type": "code",
   "execution_count": 12,
   "metadata": {},
   "outputs": [
    {
     "data": {
      "text/plain": [
       "False"
      ]
     },
     "execution_count": 12,
     "metadata": {},
     "output_type": "execute_result"
    }
   ],
   "source": [
    "kclient.is_experiment_succeeded(name=\"tfjob-example\", namespace=namespace)"
   ]
  },
  {
   "cell_type": "markdown",
   "metadata": {},
   "source": [
    "## List Trials of a experiment"
   ]
  },
  {
   "cell_type": "code",
   "execution_count": 18,
   "metadata": {},
   "outputs": [
    {
     "data": {
      "text/plain": [
       "[{'name': 'tfjob-example-fl9h8gpv', 'status': 'Running'},\n",
       " {'name': 'tfjob-example-gg2wl8gl', 'status': 'Running'},\n",
       " {'name': 'tfjob-example-gh6s9htw', 'status': 'Created'},\n",
       " {'name': 'tfjob-example-w774npf9', 'status': 'Running'}]"
      ]
     },
     "execution_count": 18,
     "metadata": {},
     "output_type": "execute_result"
    }
   ],
   "source": [
    "kclient.list_trials(name=\"tfjob-example\", namespace=namespace)"
   ]
  },
  {
   "cell_type": "markdown",
   "metadata": {},
   "source": [
    "## List all Experiments"
   ]
  },
  {
   "cell_type": "code",
   "execution_count": 19,
   "metadata": {},
   "outputs": [
    {
     "data": {
      "text/plain": [
       "[{'name': 'bayesianoptimization', 'status': 'Succeeded'},\n",
       " {'name': 'tfjob-example', 'status': 'Running'}]"
      ]
     },
     "execution_count": 19,
     "metadata": {},
     "output_type": "execute_result"
    }
   ],
   "source": [
    "kclient.list_experiments(namespace=namespace)"
   ]
  },
  {
   "cell_type": "markdown",
   "metadata": {},
   "source": [
    "## Get Optimal Hyperparameter"
   ]
  },
  {
   "cell_type": "code",
   "execution_count": null,
   "metadata": {},
   "outputs": [],
   "source": [
    "kclient.get_optimal_hyperparmeters(name=\"tfjob-example\", namespace=namespace)"
   ]
  },
  {
   "cell_type": "markdown",
   "metadata": {},
   "source": [
    "## Delete experiment"
   ]
  },
  {
   "cell_type": "code",
   "execution_count": 13,
   "metadata": {},
   "outputs": [],
   "source": [
    "kclient.delete_experiment(name=\"tfjob-example\", namespace=namespace)"
   ]
  }
 ],
 "metadata": {
  "kernelspec": {
   "display_name": "Python 3",
   "language": "python",
   "name": "python3"
  },
  "language_info": {
   "codemirror_mode": {
    "name": "ipython",
    "version": 3
   },
   "file_extension": ".py",
   "mimetype": "text/x-python",
   "name": "python",
   "nbconvert_exporter": "python",
   "pygments_lexer": "ipython3",
   "version": "3.6.5"
  }
 },
 "nbformat": 4,
 "nbformat_minor": 2
}
