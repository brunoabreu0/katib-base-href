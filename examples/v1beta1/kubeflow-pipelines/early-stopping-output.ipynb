{
 "cells": [
  {
   "cell_type": "markdown",
   "id": "b5022b3b",
   "metadata": {
    "tags": [
     "papermill-error-cell-tag"
    ]
   },
   "source": [
    "<span style=\"color:red; font-family:Helvetica Neue, Helvetica, Arial, sans-serif; font-size:2em;\">An Exception was encountered at '<a href=\"#papermill-error-cell\">In [7]</a>'.</span>"
   ]
  },
  {
   "cell_type": "markdown",
   "id": "3c0b8662",
   "metadata": {
    "papermill": {
     "duration": 0.011359,
     "end_time": "2024-11-04T13:18:59.197857",
     "exception": false,
     "start_time": "2024-11-04T13:18:59.186498",
     "status": "completed"
    },
    "tags": []
   },
   "source": [
    "# Kubeflow Pipelines with Katib component\n",
    "\n",
    "In this notebook you will:\n",
    "- Create Katib Experiment using random algorithm.\n",
    "- Use median stopping rule as an early stopping algorithm.\n",
    "- Use Kubernetes Job with mxnet mnist training container as a Trial template.\n",
    "- Create Pipeline to get the optimal hyperparameters.\n",
    "\n",
    "Reference documentation:\n",
    "- https://kubeflow.org/docs/components/katib/experiment/#random-search\n",
    "- https://kubeflow.org/docs/components/katib/early-stopping/\n",
    "- https://kubeflow.org/docs/pipelines/overview/concepts/component/\n",
    "\n",
    "**Note**: This Pipeline runs in the multi-user mode. Follow [this guide](https://github.com/kubeflow/katib/tree/master/examples/v1beta1/kubeflow-pipelines#multi-user-pipelines-setup) to give your Notebook access to Kubeflow Pipelines."
   ]
  },
  {
   "cell_type": "code",
   "execution_count": 1,
   "id": "05dfd404",
   "metadata": {
    "collapsed": false,
    "execution": {
     "iopub.execute_input": "2024-11-04T13:18:59.238369Z",
     "iopub.status.busy": "2024-11-04T13:18:59.237810Z",
     "iopub.status.idle": "2024-11-04T13:19:12.309719Z",
     "shell.execute_reply": "2024-11-04T13:19:12.308813Z"
    },
    "papermill": {
     "duration": 13.100771,
     "end_time": "2024-11-04T13:19:12.311391",
     "exception": false,
     "start_time": "2024-11-04T13:18:59.210620",
     "status": "completed"
    },
    "pycharm": {
     "name": "#%%\n"
    },
    "tags": []
   },
   "outputs": [
    {
     "name": "stdout",
     "output_type": "stream",
     "text": [
      "Requirement already satisfied: kfp==2.3.0 in /home/kerido/.local/lib/python3.8/site-packages (2.3.0)\r\n"
     ]
    },
    {
     "name": "stdout",
     "output_type": "stream",
     "text": [
      "Requirement already satisfied: kfp-pipeline-spec==0.2.2 in /home/kerido/.local/lib/python3.8/site-packages (from kfp==2.3.0) (0.2.2)\r\n",
      "Requirement already satisfied: requests-toolbelt<1,>=0.8.0 in /home/kerido/.local/lib/python3.8/site-packages (from kfp==2.3.0) (0.10.1)\r\n",
      "Requirement already satisfied: docstring-parser<1,>=0.7.3 in /home/kerido/.local/lib/python3.8/site-packages (from kfp==2.3.0) (0.16)\r\n",
      "Requirement already satisfied: click<9,>=8.0.0 in /home/kerido/.local/lib/python3.8/site-packages (from kfp==2.3.0) (8.1.7)\r\n",
      "Requirement already satisfied: google-auth<3,>=1.6.1 in /home/kerido/.local/lib/python3.8/site-packages (from kfp==2.3.0) (1.35.0)\r\n",
      "Requirement already satisfied: urllib3<2.0.0 in /usr/lib/python3/dist-packages (from kfp==2.3.0) (1.25.8)\r\n",
      "Requirement already satisfied: google-cloud-storage<3,>=2.2.1 in /home/kerido/.local/lib/python3.8/site-packages (from kfp==2.3.0) (2.18.2)\r\n",
      "Requirement already satisfied: kfp-server-api<2.1.0,>=2.0.0 in /home/kerido/.local/lib/python3.8/site-packages (from kfp==2.3.0) (2.0.5)\r\n",
      "Requirement already satisfied: tabulate<1,>=0.8.6 in /home/kerido/.local/lib/python3.8/site-packages (from kfp==2.3.0) (0.9.0)\r\n",
      "Requirement already satisfied: kubernetes<27,>=8.0.0 in /home/kerido/.local/lib/python3.8/site-packages (from kfp==2.3.0) (26.1.0)\r\n",
      "Requirement already satisfied: google-api-core!=2.0.*,!=2.1.*,!=2.2.*,!=2.3.0,<3.0.0dev,>=1.31.5 in /home/kerido/.local/lib/python3.8/site-packages (from kfp==2.3.0) (2.19.2)\r\n",
      "Requirement already satisfied: PyYAML<7,>=5.3 in /home/kerido/.local/lib/python3.8/site-packages (from kfp==2.3.0) (5.4.1)\r\n"
     ]
    },
    {
     "name": "stdout",
     "output_type": "stream",
     "text": [
      "Requirement already satisfied: protobuf<4,>=3.13.0 in /home/kerido/.local/lib/python3.8/site-packages (from kfp==2.3.0) (3.20.3)\r\n",
      "Requirement already satisfied: typing-extensions<5,>=3.7.4; python_version < \"3.9\" in /home/kerido/.local/lib/python3.8/site-packages (from kfp==2.3.0) (3.10.0.2)\r\n",
      "Requirement already satisfied: requests<3.0.0,>=2.0.1 in /home/kerido/.local/lib/python3.8/site-packages (from requests-toolbelt<1,>=0.8.0->kfp==2.3.0) (2.32.3)\r\n",
      "Requirement already satisfied: six>=1.9.0 in /usr/lib/python3/dist-packages (from google-auth<3,>=1.6.1->kfp==2.3.0) (1.14.0)\r\n",
      "Requirement already satisfied: cachetools<5.0,>=2.0.0 in /home/kerido/.local/lib/python3.8/site-packages (from google-auth<3,>=1.6.1->kfp==2.3.0) (4.2.4)\r\n",
      "Requirement already satisfied: rsa<5,>=3.1.4; python_version >= \"3.6\" in /home/kerido/.local/lib/python3.8/site-packages (from google-auth<3,>=1.6.1->kfp==2.3.0) (4.9)\r\n",
      "Requirement already satisfied: pyasn1-modules>=0.2.1 in /usr/lib/python3/dist-packages (from google-auth<3,>=1.6.1->kfp==2.3.0) (0.2.1)\r\n",
      "Requirement already satisfied: setuptools>=40.3.0 in /usr/lib/python3/dist-packages (from google-auth<3,>=1.6.1->kfp==2.3.0) (45.2.0)\r\n",
      "Requirement already satisfied: google-cloud-core<3.0dev,>=2.3.0 in /home/kerido/.local/lib/python3.8/site-packages (from google-cloud-storage<3,>=2.2.1->kfp==2.3.0) (2.4.1)\r\n",
      "Requirement already satisfied: google-crc32c<2.0dev,>=1.0 in /home/kerido/.local/lib/python3.8/site-packages (from google-cloud-storage<3,>=2.2.1->kfp==2.3.0) (1.5.0)\r\n",
      "Requirement already satisfied: google-resumable-media>=2.7.2 in /home/kerido/.local/lib/python3.8/site-packages (from google-cloud-storage<3,>=2.2.1->kfp==2.3.0) (2.7.2)\r\n",
      "Requirement already satisfied: python-dateutil in /home/kerido/.local/lib/python3.8/site-packages (from kfp-server-api<2.1.0,>=2.0.0->kfp==2.3.0) (2.9.0.post0)\r\n",
      "Requirement already satisfied: certifi in /usr/lib/python3/dist-packages (from kfp-server-api<2.1.0,>=2.0.0->kfp==2.3.0) (2019.11.28)\r\n",
      "Requirement already satisfied: requests-oauthlib in /home/kerido/.local/lib/python3.8/site-packages (from kubernetes<27,>=8.0.0->kfp==2.3.0) (2.0.0)\r\n",
      "Requirement already satisfied: websocket-client!=0.40.0,!=0.41.*,!=0.42.*,>=0.32.0 in /home/kerido/.local/lib/python3.8/site-packages (from kubernetes<27,>=8.0.0->kfp==2.3.0) (1.8.0)\r\n",
      "Requirement already satisfied: proto-plus<2.0.0dev,>=1.22.3 in /home/kerido/.local/lib/python3.8/site-packages (from google-api-core!=2.0.*,!=2.1.*,!=2.2.*,!=2.3.0,<3.0.0dev,>=1.31.5->kfp==2.3.0) (1.24.0)\r\n",
      "Requirement already satisfied: googleapis-common-protos<2.0.dev0,>=1.56.2 in /home/kerido/.local/lib/python3.8/site-packages (from google-api-core!=2.0.*,!=2.1.*,!=2.2.*,!=2.3.0,<3.0.0dev,>=1.31.5->kfp==2.3.0) (1.65.0)\r\n",
      "Requirement already satisfied: idna<4,>=2.5 in /usr/lib/python3/dist-packages (from requests<3.0.0,>=2.0.1->requests-toolbelt<1,>=0.8.0->kfp==2.3.0) (2.8)\r\n",
      "Requirement already satisfied: charset-normalizer<4,>=2 in /home/kerido/.local/lib/python3.8/site-packages (from requests<3.0.0,>=2.0.1->requests-toolbelt<1,>=0.8.0->kfp==2.3.0) (3.3.2)\r\n",
      "Requirement already satisfied: pyasn1>=0.1.3 in /usr/lib/python3/dist-packages (from rsa<5,>=3.1.4; python_version >= \"3.6\"->google-auth<3,>=1.6.1->kfp==2.3.0) (0.4.2)\r\n",
      "Requirement already satisfied: oauthlib>=3.0.0 in /home/kerido/.local/lib/python3.8/site-packages (from requests-oauthlib->kubernetes<27,>=8.0.0->kfp==2.3.0) (3.2.2)\r\n"
     ]
    },
    {
     "name": "stdout",
     "output_type": "stream",
     "text": [
      "Requirement already satisfied: kubeflow-katib==0.17.0 in /home/kerido/.local/lib/python3.8/site-packages (0.17.0)\r\n"
     ]
    },
    {
     "name": "stdout",
     "output_type": "stream",
     "text": [
      "Requirement already satisfied: urllib3>=1.15.1 in /usr/lib/python3/dist-packages (from kubeflow-katib==0.17.0) (1.25.8)\r\n"
     ]
    },
    {
     "name": "stdout",
     "output_type": "stream",
     "text": [
      "Collecting kubernetes>=27.2.0\r\n",
      "  Using cached kubernetes-31.0.0-py2.py3-none-any.whl (1.9 MB)\r\n"
     ]
    },
    {
     "name": "stdout",
     "output_type": "stream",
     "text": [
      "Requirement already satisfied: setuptools>=21.0.0 in /usr/lib/python3/dist-packages (from kubeflow-katib==0.17.0) (45.2.0)\r\n",
      "Requirement already satisfied: grpcio>=1.41.1 in /home/kerido/.local/lib/python3.8/site-packages (from kubeflow-katib==0.17.0) (1.66.1)\r\n"
     ]
    },
    {
     "name": "stdout",
     "output_type": "stream",
     "text": [
      "Collecting protobuf<5,>=4.21.12\r\n",
      "  Using cached protobuf-4.25.5-cp37-abi3-manylinux2014_x86_64.whl (294 kB)\r\n",
      "Requirement already satisfied: certifi>=14.05.14 in /usr/lib/python3/dist-packages (from kubeflow-katib==0.17.0) (2019.11.28)\r\n",
      "Requirement already satisfied: six>=1.10 in /usr/lib/python3/dist-packages (from kubeflow-katib==0.17.0) (1.14.0)\r\n",
      "Requirement already satisfied: websocket-client!=0.40.0,!=0.41.*,!=0.42.*,>=0.32.0 in /home/kerido/.local/lib/python3.8/site-packages (from kubernetes>=27.2.0->kubeflow-katib==0.17.0) (1.8.0)\r\n",
      "Requirement already satisfied: google-auth>=1.0.1 in /home/kerido/.local/lib/python3.8/site-packages (from kubernetes>=27.2.0->kubeflow-katib==0.17.0) (1.35.0)\r\n"
     ]
    },
    {
     "name": "stdout",
     "output_type": "stream",
     "text": [
      "Requirement already satisfied: pyyaml>=5.4.1 in /home/kerido/.local/lib/python3.8/site-packages (from kubernetes>=27.2.0->kubeflow-katib==0.17.0) (5.4.1)\r\n",
      "Requirement already satisfied: requests in /home/kerido/.local/lib/python3.8/site-packages (from kubernetes>=27.2.0->kubeflow-katib==0.17.0) (2.32.3)\r\n",
      "Requirement already satisfied: oauthlib>=3.2.2 in /home/kerido/.local/lib/python3.8/site-packages (from kubernetes>=27.2.0->kubeflow-katib==0.17.0) (3.2.2)\r\n",
      "Requirement already satisfied: durationpy>=0.7 in /home/kerido/.local/lib/python3.8/site-packages (from kubernetes>=27.2.0->kubeflow-katib==0.17.0) (0.9)\r\n",
      "Requirement already satisfied: python-dateutil>=2.5.3 in /home/kerido/.local/lib/python3.8/site-packages (from kubernetes>=27.2.0->kubeflow-katib==0.17.0) (2.9.0.post0)\r\n",
      "Requirement already satisfied: requests-oauthlib in /home/kerido/.local/lib/python3.8/site-packages (from kubernetes>=27.2.0->kubeflow-katib==0.17.0) (2.0.0)\r\n",
      "Requirement already satisfied: pyasn1-modules>=0.2.1 in /usr/lib/python3/dist-packages (from google-auth>=1.0.1->kubernetes>=27.2.0->kubeflow-katib==0.17.0) (0.2.1)\r\n",
      "Requirement already satisfied: cachetools<5.0,>=2.0.0 in /home/kerido/.local/lib/python3.8/site-packages (from google-auth>=1.0.1->kubernetes>=27.2.0->kubeflow-katib==0.17.0) (4.2.4)\r\n",
      "Requirement already satisfied: rsa<5,>=3.1.4; python_version >= \"3.6\" in /home/kerido/.local/lib/python3.8/site-packages (from google-auth>=1.0.1->kubernetes>=27.2.0->kubeflow-katib==0.17.0) (4.9)\r\n",
      "Requirement already satisfied: charset-normalizer<4,>=2 in /home/kerido/.local/lib/python3.8/site-packages (from requests->kubernetes>=27.2.0->kubeflow-katib==0.17.0) (3.3.2)\r\n",
      "Requirement already satisfied: idna<4,>=2.5 in /usr/lib/python3/dist-packages (from requests->kubernetes>=27.2.0->kubeflow-katib==0.17.0) (2.8)\r\n",
      "Requirement already satisfied: pyasn1>=0.1.3 in /usr/lib/python3/dist-packages (from rsa<5,>=3.1.4; python_version >= \"3.6\"->google-auth>=1.0.1->kubernetes>=27.2.0->kubeflow-katib==0.17.0) (0.4.2)\r\n"
     ]
    },
    {
     "name": "stdout",
     "output_type": "stream",
     "text": [
      "\u001b[31mERROR: kfp 2.3.0 has requirement kubernetes<27,>=8.0.0, but you'll have kubernetes 31.0.0 which is incompatible.\u001b[0m\r\n",
      "\u001b[31mERROR: kfp 2.3.0 has requirement protobuf<4,>=3.13.0, but you'll have protobuf 4.25.5 which is incompatible.\u001b[0m\r\n",
      "\u001b[31mERROR: kfp-pipeline-spec 0.2.2 has requirement protobuf<4,>=3.13.0, but you'll have protobuf 4.25.5 which is incompatible.\u001b[0m\r\n",
      "\u001b[31mERROR: google-api-core 2.19.2 has requirement google-auth<3.0.dev0,>=2.14.1, but you'll have google-auth 1.35.0 which is incompatible.\u001b[0m\r\n",
      "Installing collected packages: kubernetes, protobuf\r\n",
      "  Attempting uninstall: kubernetes\r\n",
      "    Found existing installation: kubernetes 26.1.0\r\n"
     ]
    },
    {
     "name": "stdout",
     "output_type": "stream",
     "text": [
      "    Uninstalling kubernetes-26.1.0:\r\n",
      "      Successfully uninstalled kubernetes-26.1.0\r\n"
     ]
    },
    {
     "name": "stdout",
     "output_type": "stream",
     "text": [
      "  Attempting uninstall: protobuf\r\n",
      "    Found existing installation: protobuf 3.20.3\r\n",
      "    Uninstalling protobuf-3.20.3:\r\n"
     ]
    },
    {
     "name": "stdout",
     "output_type": "stream",
     "text": [
      "      Successfully uninstalled protobuf-3.20.3\r\n"
     ]
    },
    {
     "name": "stdout",
     "output_type": "stream",
     "text": [
      "Successfully installed kubernetes-31.0.0 protobuf-4.25.5\r\n"
     ]
    },
    {
     "name": "stdout",
     "output_type": "stream",
     "text": [
      "Collecting kubernetes==27.2.0\r\n"
     ]
    },
    {
     "name": "stdout",
     "output_type": "stream",
     "text": [
      "  Downloading kubernetes-27.2.0-py2.py3-none-any.whl (1.5 MB)\r\n",
      "\u001b[?25l\r",
      "\u001b[K     |▏                               | 10 kB 30.9 MB/s eta 0:00:01"
     ]
    },
    {
     "name": "stdout",
     "output_type": "stream",
     "text": [
      "\r",
      "\u001b[K     |▍                               | 20 kB 157 kB/s eta 0:00:10\r",
      "\u001b[K     |▋                               | 30 kB 235 kB/s eta 0:00:07\r",
      "\u001b[K     |▉                               | 40 kB 314 kB/s eta 0:00:05"
     ]
    },
    {
     "name": "stdout",
     "output_type": "stream",
     "text": [
      "\r",
      "\u001b[K     |█                               | 51 kB 259 kB/s eta 0:00:06\r",
      "\u001b[K     |█▎                              | 61 kB 310 kB/s eta 0:00:05"
     ]
    },
    {
     "name": "stdout",
     "output_type": "stream",
     "text": [
      "\r",
      "\u001b[K     |█▌                              | 71 kB 272 kB/s eta 0:00:06\r",
      "\u001b[K     |█▊                              | 81 kB 311 kB/s eta 0:00:05\r",
      "\u001b[K     |██                              | 92 kB 350 kB/s eta 0:00:05"
     ]
    },
    {
     "name": "stdout",
     "output_type": "stream",
     "text": [
      "\r",
      "\u001b[K     |██▏                             | 102 kB 332 kB/s eta 0:00:05\r",
      "\u001b[K     |██▍                             | 112 kB 332 kB/s eta 0:00:05"
     ]
    },
    {
     "name": "stdout",
     "output_type": "stream",
     "text": [
      "\r",
      "\u001b[K     |██▋                             | 122 kB 332 kB/s eta 0:00:05\r",
      "\u001b[K     |██▉                             | 133 kB 332 kB/s eta 0:00:05\r",
      "\u001b[K     |███                             | 143 kB 332 kB/s eta 0:00:05\r",
      "\u001b[K     |███▎                            | 153 kB 332 kB/s eta 0:00:05"
     ]
    },
    {
     "name": "stdout",
     "output_type": "stream",
     "text": [
      "\r",
      "\u001b[K     |███▌                            | 163 kB 332 kB/s eta 0:00:05\r",
      "\u001b[K     |███▊                            | 174 kB 332 kB/s eta 0:00:04\r",
      "\u001b[K     |████                            | 184 kB 332 kB/s eta 0:00:04\r",
      "\u001b[K     |████▏                           | 194 kB 332 kB/s eta 0:00:04\r",
      "\u001b[K     |████▍                           | 204 kB 332 kB/s eta 0:00:04\r",
      "\u001b[K     |████▋                           | 215 kB 332 kB/s eta 0:00:04\r",
      "\u001b[K     |████▉                           | 225 kB 332 kB/s eta 0:00:04"
     ]
    },
    {
     "name": "stdout",
     "output_type": "stream",
     "text": [
      "\r",
      "\u001b[K     |█████                           | 235 kB 332 kB/s eta 0:00:04\r",
      "\u001b[K     |█████▎                          | 245 kB 332 kB/s eta 0:00:04\r",
      "\u001b[K     |█████▌                          | 256 kB 332 kB/s eta 0:00:04\r",
      "\u001b[K     |█████▋                          | 266 kB 332 kB/s eta 0:00:04\r",
      "\u001b[K     |█████▉                          | 276 kB 332 kB/s eta 0:00:04\r",
      "\u001b[K     |██████                          | 286 kB 332 kB/s eta 0:00:04\r",
      "\u001b[K     |██████▎                         | 296 kB 332 kB/s eta 0:00:04\r",
      "\u001b[K     |██████▌                         | 307 kB 332 kB/s eta 0:00:04\r",
      "\u001b[K     |██████▊                         | 317 kB 332 kB/s eta 0:00:04"
     ]
    },
    {
     "name": "stdout",
     "output_type": "stream",
     "text": [
      "\r",
      "\u001b[K     |███████                         | 327 kB 332 kB/s eta 0:00:04\r",
      "\u001b[K     |███████▏                        | 337 kB 332 kB/s eta 0:00:04"
     ]
    },
    {
     "name": "stdout",
     "output_type": "stream",
     "text": [
      "\r",
      "\u001b[K     |███████▍                        | 348 kB 332 kB/s eta 0:00:04\r",
      "\u001b[K     |███████▋                        | 358 kB 332 kB/s eta 0:00:04\r",
      "\u001b[K     |███████▉                        | 368 kB 332 kB/s eta 0:00:04\r",
      "\u001b[K     |████████                        | 378 kB 332 kB/s eta 0:00:04\r",
      "\u001b[K     |████████▎                       | 389 kB 332 kB/s eta 0:00:04\r",
      "\u001b[K     |████████▌                       | 399 kB 332 kB/s eta 0:00:04\r",
      "\u001b[K     |████████▊                       | 409 kB 332 kB/s eta 0:00:04\r",
      "\u001b[K     |█████████                       | 419 kB 332 kB/s eta 0:00:04\r",
      "\u001b[K     |█████████▏                      | 430 kB 332 kB/s eta 0:00:04\r",
      "\u001b[K     |█████████▍                      | 440 kB 332 kB/s eta 0:00:04"
     ]
    },
    {
     "name": "stdout",
     "output_type": "stream",
     "text": [
      "\r",
      "\u001b[K     |█████████▋                      | 450 kB 332 kB/s eta 0:00:04\r",
      "\u001b[K     |█████████▉                      | 460 kB 332 kB/s eta 0:00:04\r",
      "\u001b[K     |██████████                      | 471 kB 332 kB/s eta 0:00:04\r",
      "\u001b[K     |██████████▎                     | 481 kB 332 kB/s eta 0:00:04\r",
      "\u001b[K     |██████████▌                     | 491 kB 332 kB/s eta 0:00:04\r",
      "\u001b[K     |██████████▊                     | 501 kB 332 kB/s eta 0:00:04\r",
      "\u001b[K     |███████████                     | 512 kB 332 kB/s eta 0:00:03\r",
      "\u001b[K     |███████████▏                    | 522 kB 332 kB/s eta 0:00:03"
     ]
    },
    {
     "name": "stdout",
     "output_type": "stream",
     "text": [
      "\r",
      "\u001b[K     |███████████▎                    | 532 kB 332 kB/s eta 0:00:03\r",
      "\u001b[K     |███████████▌                    | 542 kB 332 kB/s eta 0:00:03\r",
      "\u001b[K     |███████████▊                    | 552 kB 332 kB/s eta 0:00:03\r",
      "\u001b[K     |████████████                    | 563 kB 332 kB/s eta 0:00:03\r",
      "\u001b[K     |████████████▏                   | 573 kB 332 kB/s eta 0:00:03\r",
      "\u001b[K     |████████████▍                   | 583 kB 332 kB/s eta 0:00:03\r",
      "\u001b[K     |████████████▋                   | 593 kB 332 kB/s eta 0:00:03\r",
      "\u001b[K     |████████████▉                   | 604 kB 332 kB/s eta 0:00:03"
     ]
    },
    {
     "name": "stdout",
     "output_type": "stream",
     "text": [
      "\r",
      "\u001b[K     |█████████████                   | 614 kB 332 kB/s eta 0:00:03\r",
      "\u001b[K     |█████████████▎                  | 624 kB 332 kB/s eta 0:00:03\r",
      "\u001b[K     |█████████████▌                  | 634 kB 332 kB/s eta 0:00:03\r",
      "\u001b[K     |█████████████▊                  | 645 kB 332 kB/s eta 0:00:03\r",
      "\u001b[K     |██████████████                  | 655 kB 332 kB/s eta 0:00:03\r",
      "\u001b[K     |██████████████▏                 | 665 kB 332 kB/s eta 0:00:03\r",
      "\u001b[K     |██████████████▍                 | 675 kB 332 kB/s eta 0:00:03\r",
      "\u001b[K     |██████████████▋                 | 686 kB 332 kB/s eta 0:00:03\r",
      "\u001b[K     |██████████████▉                 | 696 kB 332 kB/s eta 0:00:03"
     ]
    },
    {
     "name": "stdout",
     "output_type": "stream",
     "text": [
      "\r",
      "\u001b[K     |███████████████                 | 706 kB 332 kB/s eta 0:00:03\r",
      "\u001b[K     |███████████████▎                | 716 kB 332 kB/s eta 0:00:03\r",
      "\u001b[K     |███████████████▌                | 727 kB 332 kB/s eta 0:00:03"
     ]
    },
    {
     "name": "stdout",
     "output_type": "stream",
     "text": [
      "\r",
      "\u001b[K     |███████████████▊                | 737 kB 332 kB/s eta 0:00:03\r",
      "\u001b[K     |████████████████                | 747 kB 332 kB/s eta 0:00:03\r",
      "\u001b[K     |████████████████▏               | 757 kB 332 kB/s eta 0:00:03\r",
      "\u001b[K     |████████████████▍               | 768 kB 332 kB/s eta 0:00:03\r",
      "\u001b[K     |████████████████▋               | 778 kB 332 kB/s eta 0:00:03\r",
      "\u001b[K     |████████████████▉               | 788 kB 332 kB/s eta 0:00:03\r",
      "\u001b[K     |█████████████████               | 798 kB 332 kB/s eta 0:00:03"
     ]
    },
    {
     "name": "stdout",
     "output_type": "stream",
     "text": [
      "\r",
      "\u001b[K     |█████████████████▏              | 808 kB 332 kB/s eta 0:00:03\r",
      "\u001b[K     |█████████████████▍              | 819 kB 332 kB/s eta 0:00:03\r",
      "\u001b[K     |█████████████████▋              | 829 kB 332 kB/s eta 0:00:03\r",
      "\u001b[K     |█████████████████▉              | 839 kB 332 kB/s eta 0:00:02\r",
      "\u001b[K     |██████████████████              | 849 kB 332 kB/s eta 0:00:02\r",
      "\u001b[K     |██████████████████▎             | 860 kB 332 kB/s eta 0:00:02\r",
      "\u001b[K     |██████████████████▌             | 870 kB 332 kB/s eta 0:00:02\r",
      "\u001b[K     |██████████████████▊             | 880 kB 332 kB/s eta 0:00:02\r",
      "\u001b[K     |███████████████████             | 890 kB 332 kB/s eta 0:00:02\r",
      "\u001b[K     |███████████████████▏            | 901 kB 332 kB/s eta 0:00:02\r",
      "\u001b[K     |███████████████████▍            | 911 kB 332 kB/s eta 0:00:02"
     ]
    },
    {
     "name": "stdout",
     "output_type": "stream",
     "text": [
      "\r",
      "\u001b[K     |███████████████████▋            | 921 kB 332 kB/s eta 0:00:02\r",
      "\u001b[K     |███████████████████▉            | 931 kB 332 kB/s eta 0:00:02\r",
      "\u001b[K     |████████████████████            | 942 kB 332 kB/s eta 0:00:02\r",
      "\u001b[K     |████████████████████▎           | 952 kB 332 kB/s eta 0:00:02\r",
      "\u001b[K     |████████████████████▌           | 962 kB 332 kB/s eta 0:00:02\r",
      "\u001b[K     |████████████████████▊           | 972 kB 332 kB/s eta 0:00:02\r",
      "\u001b[K     |█████████████████████           | 983 kB 332 kB/s eta 0:00:02\r",
      "\u001b[K     |█████████████████████▏          | 993 kB 332 kB/s eta 0:00:02\r",
      "\u001b[K     |█████████████████████▍          | 1.0 MB 332 kB/s eta 0:00:02\r",
      "\u001b[K     |█████████████████████▋          | 1.0 MB 332 kB/s eta 0:00:02"
     ]
    },
    {
     "name": "stdout",
     "output_type": "stream",
     "text": [
      "\r",
      "\u001b[K     |█████████████████████▉          | 1.0 MB 332 kB/s eta 0:00:02\r",
      "\u001b[K     |██████████████████████          | 1.0 MB 332 kB/s eta 0:00:02\r",
      "\u001b[K     |██████████████████████▎         | 1.0 MB 332 kB/s eta 0:00:02\r",
      "\u001b[K     |██████████████████████▍         | 1.1 MB 332 kB/s eta 0:00:02\r",
      "\u001b[K     |██████████████████████▋         | 1.1 MB 332 kB/s eta 0:00:02\r",
      "\u001b[K     |██████████████████████▉         | 1.1 MB 332 kB/s eta 0:00:02\r",
      "\u001b[K     |███████████████████████         | 1.1 MB 332 kB/s eta 0:00:02\r",
      "\u001b[K     |███████████████████████▎        | 1.1 MB 332 kB/s eta 0:00:02\r",
      "\u001b[K     |███████████████████████▌        | 1.1 MB 332 kB/s eta 0:00:02"
     ]
    },
    {
     "name": "stdout",
     "output_type": "stream",
     "text": [
      "\r",
      "\u001b[K     |███████████████████████▊        | 1.1 MB 332 kB/s eta 0:00:02\r",
      "\u001b[K     |████████████████████████        | 1.1 MB 332 kB/s eta 0:00:02\r",
      "\u001b[K     |████████████████████████▏       | 1.1 MB 332 kB/s eta 0:00:02\r",
      "\u001b[K     |████████████████████████▍       | 1.1 MB 332 kB/s eta 0:00:02\r",
      "\u001b[K     |████████████████████████▋       | 1.2 MB 332 kB/s eta 0:00:02\r",
      "\u001b[K     |████████████████████████▉       | 1.2 MB 332 kB/s eta 0:00:02\r",
      "\u001b[K     |█████████████████████████       | 1.2 MB 332 kB/s eta 0:00:01\r",
      "\u001b[K     |█████████████████████████▎      | 1.2 MB 332 kB/s eta 0:00:01\r",
      "\u001b[K     |█████████████████████████▌      | 1.2 MB 332 kB/s eta 0:00:01\r",
      "\u001b[K     |█████████████████████████▊      | 1.2 MB 332 kB/s eta 0:00:01\r",
      "\u001b[K     |██████████████████████████      | 1.2 MB 332 kB/s eta 0:00:01"
     ]
    },
    {
     "name": "stdout",
     "output_type": "stream",
     "text": [
      "\r",
      "\u001b[K     |██████████████████████████▏     | 1.2 MB 332 kB/s eta 0:00:01\r",
      "\u001b[K     |██████████████████████████▍     | 1.2 MB 332 kB/s eta 0:00:01\r",
      "\u001b[K     |██████████████████████████▋     | 1.2 MB 332 kB/s eta 0:00:01\r",
      "\u001b[K     |██████████████████████████▉     | 1.3 MB 332 kB/s eta 0:00:01\r",
      "\u001b[K     |███████████████████████████     | 1.3 MB 332 kB/s eta 0:00:01\r",
      "\u001b[K     |███████████████████████████▎    | 1.3 MB 332 kB/s eta 0:00:01\r",
      "\u001b[K     |███████████████████████████▌    | 1.3 MB 332 kB/s eta 0:00:01\r",
      "\u001b[K     |███████████████████████████▊    | 1.3 MB 332 kB/s eta 0:00:01"
     ]
    },
    {
     "name": "stdout",
     "output_type": "stream",
     "text": [
      "\r",
      "\u001b[K     |████████████████████████████    | 1.3 MB 332 kB/s eta 0:00:01\r",
      "\u001b[K     |████████████████████████████    | 1.3 MB 332 kB/s eta 0:00:01\r",
      "\u001b[K     |████████████████████████████▎   | 1.3 MB 332 kB/s eta 0:00:01\r",
      "\u001b[K     |████████████████████████████▌   | 1.3 MB 332 kB/s eta 0:00:01\r",
      "\u001b[K     |████████████████████████████▊   | 1.4 MB 332 kB/s eta 0:00:01\r",
      "\u001b[K     |█████████████████████████████   | 1.4 MB 332 kB/s eta 0:00:01\r",
      "\u001b[K     |█████████████████████████████▏  | 1.4 MB 332 kB/s eta 0:00:01\r",
      "\u001b[K     |█████████████████████████████▍  | 1.4 MB 332 kB/s eta 0:00:01"
     ]
    },
    {
     "name": "stdout",
     "output_type": "stream",
     "text": [
      "\r",
      "\u001b[K     |█████████████████████████████▋  | 1.4 MB 332 kB/s eta 0:00:01\r",
      "\u001b[K     |█████████████████████████████▉  | 1.4 MB 332 kB/s eta 0:00:01"
     ]
    },
    {
     "name": "stdout",
     "output_type": "stream",
     "text": [
      "\r",
      "\u001b[K     |██████████████████████████████  | 1.4 MB 332 kB/s eta 0:00:01\r",
      "\u001b[K     |██████████████████████████████▎ | 1.4 MB 332 kB/s eta 0:00:01\r",
      "\u001b[K     |██████████████████████████████▌ | 1.4 MB 332 kB/s eta 0:00:01\r",
      "\u001b[K     |██████████████████████████████▊ | 1.4 MB 332 kB/s eta 0:00:01\r",
      "\u001b[K     |███████████████████████████████ | 1.5 MB 332 kB/s eta 0:00:01\r",
      "\u001b[K     |███████████████████████████████▏| 1.5 MB 332 kB/s eta 0:00:01\r",
      "\u001b[K     |███████████████████████████████▍| 1.5 MB 332 kB/s eta 0:00:01\r",
      "\u001b[K     |███████████████████████████████▋| 1.5 MB 332 kB/s eta 0:00:01\r",
      "\u001b[K     |███████████████████████████████▉| 1.5 MB 332 kB/s eta 0:00:01\r",
      "\u001b[K     |████████████████████████████████| 1.5 MB 332 kB/s \r\n"
     ]
    },
    {
     "name": "stdout",
     "output_type": "stream",
     "text": [
      "\u001b[?25hRequirement already satisfied: websocket-client!=0.40.0,!=0.41.*,!=0.42.*,>=0.32.0 in /home/kerido/.local/lib/python3.8/site-packages (from kubernetes==27.2.0) (1.8.0)\r\n",
      "Requirement already satisfied: requests in /home/kerido/.local/lib/python3.8/site-packages (from kubernetes==27.2.0) (2.32.3)\r\n",
      "Requirement already satisfied: requests-oauthlib in /home/kerido/.local/lib/python3.8/site-packages (from kubernetes==27.2.0) (2.0.0)\r\n",
      "Requirement already satisfied: oauthlib>=3.2.2 in /home/kerido/.local/lib/python3.8/site-packages (from kubernetes==27.2.0) (3.2.2)\r\n",
      "Requirement already satisfied: google-auth>=1.0.1 in /home/kerido/.local/lib/python3.8/site-packages (from kubernetes==27.2.0) (1.35.0)\r\n",
      "Requirement already satisfied: certifi>=14.05.14 in /usr/lib/python3/dist-packages (from kubernetes==27.2.0) (2019.11.28)\r\n",
      "Requirement already satisfied: python-dateutil>=2.5.3 in /home/kerido/.local/lib/python3.8/site-packages (from kubernetes==27.2.0) (2.9.0.post0)\r\n",
      "Requirement already satisfied: urllib3>=1.24.2 in /usr/lib/python3/dist-packages (from kubernetes==27.2.0) (1.25.8)\r\n",
      "Requirement already satisfied: pyyaml>=5.4.1 in /home/kerido/.local/lib/python3.8/site-packages (from kubernetes==27.2.0) (5.4.1)\r\n",
      "Requirement already satisfied: six>=1.9.0 in /usr/lib/python3/dist-packages (from kubernetes==27.2.0) (1.14.0)\r\n",
      "Requirement already satisfied: charset-normalizer<4,>=2 in /home/kerido/.local/lib/python3.8/site-packages (from requests->kubernetes==27.2.0) (3.3.2)\r\n",
      "Requirement already satisfied: idna<4,>=2.5 in /usr/lib/python3/dist-packages (from requests->kubernetes==27.2.0) (2.8)\r\n",
      "Requirement already satisfied: setuptools>=40.3.0 in /usr/lib/python3/dist-packages (from google-auth>=1.0.1->kubernetes==27.2.0) (45.2.0)\r\n",
      "Requirement already satisfied: cachetools<5.0,>=2.0.0 in /home/kerido/.local/lib/python3.8/site-packages (from google-auth>=1.0.1->kubernetes==27.2.0) (4.2.4)\r\n",
      "Requirement already satisfied: pyasn1-modules>=0.2.1 in /usr/lib/python3/dist-packages (from google-auth>=1.0.1->kubernetes==27.2.0) (0.2.1)\r\n",
      "Requirement already satisfied: rsa<5,>=3.1.4; python_version >= \"3.6\" in /home/kerido/.local/lib/python3.8/site-packages (from google-auth>=1.0.1->kubernetes==27.2.0) (4.9)\r\n",
      "Requirement already satisfied: pyasn1>=0.1.3 in /usr/lib/python3/dist-packages (from rsa<5,>=3.1.4; python_version >= \"3.6\"->google-auth>=1.0.1->kubernetes==27.2.0) (0.4.2)\r\n"
     ]
    },
    {
     "name": "stdout",
     "output_type": "stream",
     "text": [
      "\u001b[31mERROR: kfp 2.3.0 has requirement kubernetes<27,>=8.0.0, but you'll have kubernetes 27.2.0 which is incompatible.\u001b[0m\r\n",
      "\u001b[31mERROR: kfp 2.3.0 has requirement protobuf<4,>=3.13.0, but you'll have protobuf 4.25.5 which is incompatible.\u001b[0m\r\n",
      "Installing collected packages: kubernetes\r\n",
      "  Attempting uninstall: kubernetes\r\n",
      "    Found existing installation: kubernetes 31.0.0\r\n"
     ]
    },
    {
     "name": "stdout",
     "output_type": "stream",
     "text": [
      "    Uninstalling kubernetes-31.0.0:\r\n",
      "      Successfully uninstalled kubernetes-31.0.0\r\n"
     ]
    },
    {
     "name": "stdout",
     "output_type": "stream",
     "text": [
      "Successfully installed kubernetes-27.2.0\r\n"
     ]
    },
    {
     "name": "stdout",
     "output_type": "stream",
     "text": [
      "Collecting protobuf==3.20.*\r\n",
      "  Using cached protobuf-3.20.3-cp38-cp38-manylinux_2_5_x86_64.manylinux1_x86_64.whl (1.0 MB)\r\n"
     ]
    },
    {
     "name": "stdout",
     "output_type": "stream",
     "text": [
      "\u001b[31mERROR: kubeflow-katib 0.17.0 has requirement protobuf<5,>=4.21.12, but you'll have protobuf 3.20.3 which is incompatible.\u001b[0m\r\n",
      "\u001b[31mERROR: kfp 2.3.0 has requirement kubernetes<27,>=8.0.0, but you'll have kubernetes 27.2.0 which is incompatible.\u001b[0m\r\n",
      "\u001b[31mERROR: google-api-core 2.19.2 has requirement google-auth<3.0.dev0,>=2.14.1, but you'll have google-auth 1.35.0 which is incompatible.\u001b[0m\r\n",
      "Installing collected packages: protobuf\r\n",
      "  Attempting uninstall: protobuf\r\n",
      "    Found existing installation: protobuf 4.25.5\r\n",
      "    Uninstalling protobuf-4.25.5:\r\n",
      "      Successfully uninstalled protobuf-4.25.5\r\n"
     ]
    },
    {
     "name": "stdout",
     "output_type": "stream",
     "text": [
      "Successfully installed protobuf-3.20.3\r\n"
     ]
    }
   ],
   "source": [
    "# Install required packages (Kubeflow Pipelines and Katib SDK).\n",
    "!pip install kfp==2.3.0\n",
    "!pip install kubeflow-katib==0.17.0\n",
    "!pip install kubernetes==27.2.0\n",
    "!pip install protobuf==3.20.*"
   ]
  },
  {
   "cell_type": "code",
   "execution_count": 2,
   "id": "f289763c",
   "metadata": {
    "collapsed": false,
    "execution": {
     "iopub.execute_input": "2024-11-04T13:19:12.342422Z",
     "iopub.status.busy": "2024-11-04T13:19:12.342133Z",
     "iopub.status.idle": "2024-11-04T13:19:12.694161Z",
     "shell.execute_reply": "2024-11-04T13:19:12.693518Z"
    },
    "papermill": {
     "duration": 0.369047,
     "end_time": "2024-11-04T13:19:12.695457",
     "exception": false,
     "start_time": "2024-11-04T13:19:12.326410",
     "status": "completed"
    },
    "pycharm": {
     "name": "#%%\n"
    },
    "tags": []
   },
   "outputs": [],
   "source": [
    "import kfp\n",
    "import kfp.dsl as dsl\n",
    "from kfp import components\n",
    "\n",
    "from kubeflow.katib import KatibClient, ApiClient, V1beta1Experiment\n",
    "from kubeflow.katib.models import (\n",
    "    V1beta1ExperimentSpec,\n",
    "    V1beta1AlgorithmSpec,\n",
    "    V1beta1ObjectiveSpec,\n",
    "    V1beta1ParameterSpec,\n",
    "    V1beta1FeasibleSpace,\n",
    "    V1beta1TrialTemplate,\n",
    "    V1beta1TrialParameterSpec,\n",
    "    V1beta1EarlyStoppingSpec,\n",
    "    V1beta1EarlyStoppingSetting,\n",
    ")"
   ]
  },
  {
   "cell_type": "markdown",
   "id": "167956eb",
   "metadata": {
    "collapsed": false,
    "papermill": {
     "duration": 0.017822,
     "end_time": "2024-11-04T13:19:12.727299",
     "exception": false,
     "start_time": "2024-11-04T13:19:12.709477",
     "status": "completed"
    },
    "pycharm": {
     "name": "#%% md\n"
    },
    "tags": []
   },
   "source": [
    "## Define an Experiment\n",
    "\n",
    "You have to create an Experiment object before deploying it. This Experiment is similar to [this](https://github.com/kubeflow/katib/blob/master/examples/v1beta1/early-stopping/median-stop.yaml) YAML."
   ]
  },
  {
   "cell_type": "code",
   "execution_count": 3,
   "id": "1334f68b",
   "metadata": {
    "collapsed": false,
    "execution": {
     "iopub.execute_input": "2024-11-04T13:19:12.765407Z",
     "iopub.status.busy": "2024-11-04T13:19:12.765066Z",
     "iopub.status.idle": "2024-11-04T13:19:12.772365Z",
     "shell.execute_reply": "2024-11-04T13:19:12.771514Z"
    },
    "papermill": {
     "duration": 0.025999,
     "end_time": "2024-11-04T13:19:12.773932",
     "exception": false,
     "start_time": "2024-11-04T13:19:12.747933",
     "status": "completed"
    },
    "pycharm": {
     "name": "#%%\n"
    },
    "tags": []
   },
   "outputs": [],
   "source": [
    "# Experiment name and namespace.\n",
    "experiment_name = \"median-stop\"\n",
    "experiment_namespace = \"kubeflow-user-example-com\"\n",
    "\n",
    "# Trial count specification.\n",
    "max_trial_count = 18\n",
    "max_failed_trial_count = 3\n",
    "parallel_trial_count = 2\n",
    "\n",
    "# Objective specification.\n",
    "objective=V1beta1ObjectiveSpec(\n",
    "    type=\"minimize\",\n",
    "    goal= 0.001,\n",
    "    objective_metric_name=\"loss\",\n",
    ")\n",
    "\n",
    "# Algorithm specification.\n",
    "algorithm=V1beta1AlgorithmSpec(\n",
    "    algorithm_name=\"random\",\n",
    ")\n",
    "\n",
    "# Early Stopping specification.\n",
    "early_stopping=V1beta1EarlyStoppingSpec(\n",
    "    algorithm_name=\"medianstop\",\n",
    "    algorithm_settings=[\n",
    "        V1beta1EarlyStoppingSetting(\n",
    "            name=\"min_trials_required\",\n",
    "            value=\"2\"\n",
    "        )\n",
    "    ]\n",
    ")\n",
    "\n",
    "# Experiment search space.\n",
    "# In this example we tune learning rate, number of layer and optimizer.\n",
    "# Learning rate has bad feasible space to show more early stopped Trials.\n",
    "parameters=[\n",
    "    V1beta1ParameterSpec(\n",
    "        name=\"lr\",\n",
    "        parameter_type=\"double\",\n",
    "        feasible_space=V1beta1FeasibleSpace(\n",
    "            min=\"0.01\",\n",
    "            max=\"0.3\"\n",
    "        ),\n",
    "    ),\n",
    "    V1beta1ParameterSpec(\n",
    "        name=\"momentum\",\n",
    "        parameter_type=\"double\",\n",
    "        feasible_space=V1beta1FeasibleSpace(\n",
    "            min=\"0.5\",\n",
    "            max=\"0.9\"\n",
    "        ),\n",
    "    ),\n",
    "]\n"
   ]
  },
  {
   "cell_type": "markdown",
   "id": "13b824ea",
   "metadata": {
    "collapsed": false,
    "papermill": {
     "duration": 0.017982,
     "end_time": "2024-11-04T13:19:12.807033",
     "exception": false,
     "start_time": "2024-11-04T13:19:12.789051",
     "status": "completed"
    },
    "pycharm": {
     "name": "#%% md\n"
    },
    "tags": []
   },
   "source": [
    "## Define a Trial template\n",
    "\n",
    "In this example, the Trial's Worker is the Kubernetes Job."
   ]
  },
  {
   "cell_type": "code",
   "execution_count": 4,
   "id": "3dd7d87d",
   "metadata": {
    "collapsed": false,
    "execution": {
     "iopub.execute_input": "2024-11-04T13:19:12.846567Z",
     "iopub.status.busy": "2024-11-04T13:19:12.845881Z",
     "iopub.status.idle": "2024-11-04T13:19:12.852394Z",
     "shell.execute_reply": "2024-11-04T13:19:12.851529Z"
    },
    "papermill": {
     "duration": 0.029302,
     "end_time": "2024-11-04T13:19:12.854169",
     "exception": false,
     "start_time": "2024-11-04T13:19:12.824867",
     "status": "completed"
    },
    "pycharm": {
     "name": "#%%\n"
    },
    "tags": []
   },
   "outputs": [],
   "source": [
    "# JSON template specification for the Trial's Worker Kubernetes Job.\n",
    "trial_spec={\n",
    "    \"apiVersion\": \"batch/v1\",\n",
    "    \"kind\": \"Job\",\n",
    "    \"spec\": {\n",
    "        \"template\": {\n",
    "            \"metadata\": {\n",
    "                \"annotations\": {\n",
    "                     \"sidecar.istio.io/inject\": \"false\"\n",
    "                }\n",
    "            },\n",
    "            \"spec\": {\n",
    "                \"containers\": [\n",
    "                    {\n",
    "                        \"name\": \"training-container\",\n",
    "                        \"image\": \"docker.io/kubeflowkatib/pytorch-mnist-cpu:v0.14.0\",\n",
    "                        \"command\": [\n",
    "                            \"python3\",\n",
    "                            \"/opt/pytorch-mnist/mnist.py\",\n",
    "                            \"--epochs=1\",\n",
    "                            \"--batch-size=16\",\n",
    "                            \"--lr=${trialParameters.learningRate}\",\n",
    "                            \"--momentum=${trialParameters.momentum}\",\n",
    "                        ]\n",
    "                    }\n",
    "                ],\n",
    "                \"restartPolicy\": \"Never\"\n",
    "            }\n",
    "        }\n",
    "    }\n",
    "}\n",
    "\n",
    "# Configure parameters for the Trial template.\n",
    "# We set the retain parameter to \"True\" to not clean-up the Trial Job's Kubernetes Pods.\n",
    "trial_template=V1beta1TrialTemplate(\n",
    "    retain=True,\n",
    "    primary_container_name=\"training-container\",\n",
    "    trial_parameters=[\n",
    "        V1beta1TrialParameterSpec(\n",
    "            name=\"learningRate\",\n",
    "            description=\"Learning rate for the training model\",\n",
    "            reference=\"lr\"\n",
    "        ),\n",
    "        V1beta1TrialParameterSpec(\n",
    "            name=\"momentum\",\n",
    "            description=\"Momentum for the training model\",\n",
    "            reference=\"momentum\"\n",
    "        ),\n",
    "    ],\n",
    "    trial_spec=trial_spec\n",
    ")"
   ]
  },
  {
   "cell_type": "markdown",
   "id": "89632709",
   "metadata": {
    "collapsed": false,
    "papermill": {
     "duration": 0.014343,
     "end_time": "2024-11-04T13:19:12.883009",
     "exception": false,
     "start_time": "2024-11-04T13:19:12.868666",
     "status": "completed"
    },
    "pycharm": {
     "name": "#%% md\n"
    },
    "tags": []
   },
   "source": [
    "## Define an Experiment specification\n",
    "\n",
    "Create an Experiment specification from the above parameters."
   ]
  },
  {
   "cell_type": "code",
   "execution_count": 5,
   "id": "c1fe6b8d",
   "metadata": {
    "collapsed": false,
    "execution": {
     "iopub.execute_input": "2024-11-04T13:19:12.914083Z",
     "iopub.status.busy": "2024-11-04T13:19:12.913427Z",
     "iopub.status.idle": "2024-11-04T13:19:12.917204Z",
     "shell.execute_reply": "2024-11-04T13:19:12.916311Z"
    },
    "papermill": {
     "duration": 0.021397,
     "end_time": "2024-11-04T13:19:12.918481",
     "exception": false,
     "start_time": "2024-11-04T13:19:12.897084",
     "status": "completed"
    },
    "pycharm": {
     "name": "#%%\n"
    },
    "tags": []
   },
   "outputs": [],
   "source": [
    "experiment_spec=V1beta1ExperimentSpec(\n",
    "    max_trial_count=max_trial_count,\n",
    "    max_failed_trial_count=max_failed_trial_count,\n",
    "    parallel_trial_count=parallel_trial_count,\n",
    "    objective=objective,\n",
    "    algorithm=algorithm,\n",
    "    early_stopping=early_stopping,\n",
    "    parameters=parameters,\n",
    "    trial_template=trial_template\n",
    ")"
   ]
  },
  {
   "cell_type": "markdown",
   "id": "e5dab465",
   "metadata": {
    "collapsed": false,
    "papermill": {
     "duration": 0.014837,
     "end_time": "2024-11-04T13:19:12.947453",
     "exception": false,
     "start_time": "2024-11-04T13:19:12.932616",
     "status": "completed"
    },
    "pycharm": {
     "name": "#%% md\n"
    },
    "tags": []
   },
   "outputs": [],
   "source": [
    "# Create a Pipeline using Katib component\n",
    "\n",
    "The best hyperparameters are printed after Experiment is finished.\n",
    "The Experiment is not deleted after the Pipeline is finished."
   ]
  },
  {
   "cell_type": "code",
   "execution_count": 6,
   "id": "aabf79e4",
   "metadata": {
    "collapsed": false,
    "execution": {
     "iopub.execute_input": "2024-11-04T13:19:12.983269Z",
     "iopub.status.busy": "2024-11-04T13:19:12.982318Z",
     "iopub.status.idle": "2024-11-04T13:19:12.995969Z",
     "shell.execute_reply": "2024-11-04T13:19:12.994658Z"
    },
    "papermill": {
     "duration": 0.035342,
     "end_time": "2024-11-04T13:19:12.998902",
     "exception": false,
     "start_time": "2024-11-04T13:19:12.963560",
     "status": "completed"
    },
    "pycharm": {
     "name": "#%%\n"
    },
    "tags": []
   },
   "outputs": [],
   "source": [
    "# # Get the Katib launcher.\n",
    "# katib_experiment_launcher_op = components.load_component_from_url(\n",
    "#     \"https://raw.githubusercontent.com/kubeflow/pipelines/master/components/kubeflow/katib-launcher/component.yaml\")\n",
    "#\n",
    "# @dsl.pipeline(\n",
    "#     name=\"Launch Katib early stopping Experiment\",\n",
    "#     description=\"An example to launch Katib Experiment with early stopping\"\n",
    "# )\n",
    "#\n",
    "# def median_stop():\n",
    "#\n",
    "#     # Katib launcher component.\n",
    "#     # Experiment Spec should be serialized to a valid Kubernetes object.\n",
    "#     op = katib_experiment_launcher_op(\n",
    "#         experiment_name=experiment_name,\n",
    "#         experiment_namespace=experiment_namespace,\n",
    "#         experiment_spec=ApiClient().sanitize_for_serialization(experiment_spec),\n",
    "#         experiment_timeout_minutes=60,\n",
    "#         delete_finished_experiment=False)\n",
    "#\n",
    "#     # Output container to print the results.\n",
    "#     op_out = dsl.ContainerOp(\n",
    "#         name=\"best-hp\",\n",
    "#         image=\"library/bash:4.4.23\",\n",
    "#         command=[\"sh\", \"-c\"],\n",
    "#         arguments=[\"echo Best HyperParameters: %s\" % op.output],\n",
    "#     )\n",
    "\n",
    "# Create pipeline component to launch Katib experiment.\n",
    "@dsl.component\n",
    "def launch_katib_experiment():\n",
    "    katib_client = KatibClient()\n",
    "    experiment = katib_client.create_experiment(\n",
    "        V1beta1Experiment(\n",
    "            api_version=\"kubeflow.org/v1beta1\",\n",
    "            kind=\"Experiment\",\n",
    "            metadata={\"name\": experiment_name, \"namespace\": experiment_namespace},\n",
    "            spec=experiment_spec\n",
    "        )\n",
    "    )\n",
    "    print(f\"Experiment '{experiment_name}' created in namespace '{experiment_namespace}'.\")\n",
    "    is_created = katib_client.is_experiment_created(experiment_name, experiment_namespace)\n",
    "    is_running = katib_client.is_experiment_running(experiment_name, experiment_namespace)\n",
    "    print(\"-----------------------------------------------------------------------------\")\n",
    "    print(f\"Is experiment created: {is_created}\\n Is experiment running: {is_running}\")\n",
    "    return experiment_name\n",
    "\n",
    "#remove later\n",
    "from pprint import pprint\n",
    "\n",
    "@dsl.component\n",
    "def get_best_hyperparameters(experiment_name: str):\n",
    "    katib_client = KatibClient()\n",
    "    best_trial = katib_client.get_best_trial(name=experiment_name, namespace=experiment_namespace)\n",
    "    print(\"Best trial's hyperparameters:\", best_trial)\n",
    "\n",
    "# Define Kubeflow pipeline.\n",
    "@dsl.pipeline(\n",
    "    name=\"Launch Katib early stopping Experiment Pipeline\",\n",
    "    description=\"A pipeline to launch Katib Experiment with early stopping\"\n",
    ")\n",
    "def katib_pipeline():\n",
    "    launch_task = launch_katib_experiment()\n",
    "    # print(\"Launch Task Details:\")\n",
    "    # pprint(vars(launch_task))\n",
    "    # get_best_hp_task = get_best_hyperparameters(launch_task.output)"
   ]
  },
  {
   "cell_type": "markdown",
   "id": "3b114964",
   "metadata": {
    "collapsed": false,
    "papermill": {
     "duration": 0.020417,
     "end_time": "2024-11-04T13:19:13.073333",
     "exception": false,
     "start_time": "2024-11-04T13:19:13.052916",
     "status": "completed"
    },
    "pycharm": {
     "name": "#%% md\n"
    },
    "tags": []
   },
   "source": [
    "# Run the Kubeflow Pipeline\n",
    "\n",
    "You can check the Katib Experiment info in the Katib UI."
   ]
  },
  {
   "cell_type": "markdown",
   "id": "d99cc7f6",
   "metadata": {
    "tags": [
     "papermill-error-cell-tag"
    ]
   },
   "source": [
    "<span id=\"papermill-error-cell\" style=\"color:red; font-family:Helvetica Neue, Helvetica, Arial, sans-serif; font-size:2em;\">Execution using papermill encountered an exception here and stopped:</span>"
   ]
  },
  {
   "cell_type": "code",
   "execution_count": 7,
   "id": "ef08ca86",
   "metadata": {
    "collapsed": false,
    "execution": {
     "iopub.execute_input": "2024-11-04T13:19:13.117354Z",
     "iopub.status.busy": "2024-11-04T13:19:13.116545Z",
     "iopub.status.idle": "2024-11-04T13:19:39.956317Z",
     "shell.execute_reply": "2024-11-04T13:19:39.955332Z"
    },
    "papermill": {
     "duration": 26.863474,
     "end_time": "2024-11-04T13:19:39.957433",
     "exception": true,
     "start_time": "2024-11-04T13:19:13.093959",
     "status": "failed"
    },
    "pycharm": {
     "name": "#%%\n"
    },
    "tags": []
   },
   "outputs": [
    {
     "name": "stderr",
     "output_type": "stream",
     "text": [
      "/home/kerido/.local/lib/python3.8/site-packages/kfp/client/client.py:158: FutureWarning: This client only works with Kubeflow Pipeline v2.0.0-beta.2 and later versions.\n",
      "  warnings.warn(\n"
     ]
    },
    {
     "name": "stderr",
     "output_type": "stream",
     "text": [
      "ERROR:root:Failed to get healthz info attempt 1 of 5.\n",
      "Traceback (most recent call last):\n",
      "  File \"/home/kerido/.local/lib/python3.8/site-packages/kfp/client/client.py\", line 435, in get_kfp_healthz\n",
      "    return self._healthz_api.get_healthz()\n",
      "  File \"/home/kerido/.local/lib/python3.8/site-packages/kfp_server_api/api/healthz_service_api.py\", line 63, in get_healthz\n",
      "    return self.get_healthz_with_http_info(**kwargs)  # noqa: E501\n",
      "  File \"/home/kerido/.local/lib/python3.8/site-packages/kfp_server_api/api/healthz_service_api.py\", line 134, in get_healthz_with_http_info\n",
      "    return self.api_client.call_api(\n",
      "  File \"/home/kerido/.local/lib/python3.8/site-packages/kfp_server_api/api_client.py\", line 364, in call_api\n",
      "    return self.__call_api(resource_path, method,\n",
      "  File \"/home/kerido/.local/lib/python3.8/site-packages/kfp_server_api/api_client.py\", line 188, in __call_api\n",
      "    raise e\n",
      "  File \"/home/kerido/.local/lib/python3.8/site-packages/kfp_server_api/api_client.py\", line 181, in __call_api\n",
      "    response_data = self.request(\n",
      "  File \"/home/kerido/.local/lib/python3.8/site-packages/kfp_server_api/api_client.py\", line 389, in request\n",
      "    return self.rest_client.GET(url,\n",
      "  File \"/home/kerido/.local/lib/python3.8/site-packages/kfp_server_api/rest.py\", line 230, in GET\n",
      "    return self.request(\"GET\", url,\n",
      "  File \"/home/kerido/.local/lib/python3.8/site-packages/kfp_server_api/rest.py\", line 224, in request\n",
      "    raise ApiException(http_resp=r)\n",
      "kfp_server_api.exceptions.ApiException: (404)\n",
      "Reason: Not Found\n",
      "HTTP response headers: HTTPHeaderDict({'Audit-Id': '0e267c44-7ad8-4b21-92d5-209b8803ee2c', 'Cache-Control': 'no-cache, private', 'Content-Type': 'text/plain; charset=utf-8', 'Strict-Transport-Security': 'max-age=31536000; includeSubDomains; preload', 'X-Content-Type-Options': 'nosniff', 'X-Kubernetes-Pf-Flowschema-Uid': '70b1e8db-3edb-4379-90cb-d366a664bd4d', 'X-Kubernetes-Pf-Prioritylevel-Uid': 'e6206dc0-81c3-4064-b358-325dd3d1a032', 'Date': 'Mon, 04 Nov 2024 13:19:14 GMT', 'Content-Length': '19'})\n",
      "HTTP response body: 404 page not found\n",
      "\n",
      "\n"
     ]
    },
    {
     "name": "stderr",
     "output_type": "stream",
     "text": [
      "ERROR:root:Failed to get healthz info attempt 2 of 5.\n",
      "Traceback (most recent call last):\n",
      "  File \"/home/kerido/.local/lib/python3.8/site-packages/kfp/client/client.py\", line 435, in get_kfp_healthz\n",
      "    return self._healthz_api.get_healthz()\n",
      "  File \"/home/kerido/.local/lib/python3.8/site-packages/kfp_server_api/api/healthz_service_api.py\", line 63, in get_healthz\n",
      "    return self.get_healthz_with_http_info(**kwargs)  # noqa: E501\n",
      "  File \"/home/kerido/.local/lib/python3.8/site-packages/kfp_server_api/api/healthz_service_api.py\", line 134, in get_healthz_with_http_info\n",
      "    return self.api_client.call_api(\n",
      "  File \"/home/kerido/.local/lib/python3.8/site-packages/kfp_server_api/api_client.py\", line 364, in call_api\n",
      "    return self.__call_api(resource_path, method,\n",
      "  File \"/home/kerido/.local/lib/python3.8/site-packages/kfp_server_api/api_client.py\", line 188, in __call_api\n",
      "    raise e\n",
      "  File \"/home/kerido/.local/lib/python3.8/site-packages/kfp_server_api/api_client.py\", line 181, in __call_api\n",
      "    response_data = self.request(\n",
      "  File \"/home/kerido/.local/lib/python3.8/site-packages/kfp_server_api/api_client.py\", line 389, in request\n",
      "    return self.rest_client.GET(url,\n",
      "  File \"/home/kerido/.local/lib/python3.8/site-packages/kfp_server_api/rest.py\", line 230, in GET\n",
      "    return self.request(\"GET\", url,\n",
      "  File \"/home/kerido/.local/lib/python3.8/site-packages/kfp_server_api/rest.py\", line 224, in request\n",
      "    raise ApiException(http_resp=r)\n",
      "kfp_server_api.exceptions.ApiException: (404)\n",
      "Reason: Not Found\n",
      "HTTP response headers: HTTPHeaderDict({'Audit-Id': 'd42fdc09-c614-4990-ac36-ac55c8ddfdfc', 'Cache-Control': 'no-cache, private', 'Content-Type': 'text/plain; charset=utf-8', 'Strict-Transport-Security': 'max-age=31536000; includeSubDomains; preload', 'X-Content-Type-Options': 'nosniff', 'X-Kubernetes-Pf-Flowschema-Uid': '70b1e8db-3edb-4379-90cb-d366a664bd4d', 'X-Kubernetes-Pf-Prioritylevel-Uid': 'e6206dc0-81c3-4064-b358-325dd3d1a032', 'Date': 'Mon, 04 Nov 2024 13:19:19 GMT', 'Content-Length': '19'})\n",
      "HTTP response body: 404 page not found\n",
      "\n",
      "\n"
     ]
    },
    {
     "name": "stderr",
     "output_type": "stream",
     "text": [
      "ERROR:root:Failed to get healthz info attempt 3 of 5.\n",
      "Traceback (most recent call last):\n",
      "  File \"/home/kerido/.local/lib/python3.8/site-packages/kfp/client/client.py\", line 435, in get_kfp_healthz\n",
      "    return self._healthz_api.get_healthz()\n",
      "  File \"/home/kerido/.local/lib/python3.8/site-packages/kfp_server_api/api/healthz_service_api.py\", line 63, in get_healthz\n",
      "    return self.get_healthz_with_http_info(**kwargs)  # noqa: E501\n",
      "  File \"/home/kerido/.local/lib/python3.8/site-packages/kfp_server_api/api/healthz_service_api.py\", line 134, in get_healthz_with_http_info\n",
      "    return self.api_client.call_api(\n",
      "  File \"/home/kerido/.local/lib/python3.8/site-packages/kfp_server_api/api_client.py\", line 364, in call_api\n",
      "    return self.__call_api(resource_path, method,\n",
      "  File \"/home/kerido/.local/lib/python3.8/site-packages/kfp_server_api/api_client.py\", line 188, in __call_api\n",
      "    raise e\n",
      "  File \"/home/kerido/.local/lib/python3.8/site-packages/kfp_server_api/api_client.py\", line 181, in __call_api\n",
      "    response_data = self.request(\n",
      "  File \"/home/kerido/.local/lib/python3.8/site-packages/kfp_server_api/api_client.py\", line 389, in request\n",
      "    return self.rest_client.GET(url,\n",
      "  File \"/home/kerido/.local/lib/python3.8/site-packages/kfp_server_api/rest.py\", line 230, in GET\n",
      "    return self.request(\"GET\", url,\n",
      "  File \"/home/kerido/.local/lib/python3.8/site-packages/kfp_server_api/rest.py\", line 224, in request\n",
      "    raise ApiException(http_resp=r)\n",
      "kfp_server_api.exceptions.ApiException: (404)\n",
      "Reason: Not Found\n",
      "HTTP response headers: HTTPHeaderDict({'Audit-Id': '862b0e6b-2ff8-4728-a97c-ee01751dca24', 'Cache-Control': 'no-cache, private', 'Content-Type': 'text/plain; charset=utf-8', 'Strict-Transport-Security': 'max-age=31536000; includeSubDomains; preload', 'X-Content-Type-Options': 'nosniff', 'X-Kubernetes-Pf-Flowschema-Uid': '70b1e8db-3edb-4379-90cb-d366a664bd4d', 'X-Kubernetes-Pf-Prioritylevel-Uid': 'e6206dc0-81c3-4064-b358-325dd3d1a032', 'Date': 'Mon, 04 Nov 2024 13:19:24 GMT', 'Content-Length': '19'})\n",
      "HTTP response body: 404 page not found\n",
      "\n",
      "\n"
     ]
    },
    {
     "name": "stderr",
     "output_type": "stream",
     "text": [
      "ERROR:root:Failed to get healthz info attempt 4 of 5.\n",
      "Traceback (most recent call last):\n",
      "  File \"/home/kerido/.local/lib/python3.8/site-packages/kfp/client/client.py\", line 435, in get_kfp_healthz\n",
      "    return self._healthz_api.get_healthz()\n",
      "  File \"/home/kerido/.local/lib/python3.8/site-packages/kfp_server_api/api/healthz_service_api.py\", line 63, in get_healthz\n",
      "    return self.get_healthz_with_http_info(**kwargs)  # noqa: E501\n",
      "  File \"/home/kerido/.local/lib/python3.8/site-packages/kfp_server_api/api/healthz_service_api.py\", line 134, in get_healthz_with_http_info\n",
      "    return self.api_client.call_api(\n",
      "  File \"/home/kerido/.local/lib/python3.8/site-packages/kfp_server_api/api_client.py\", line 364, in call_api\n",
      "    return self.__call_api(resource_path, method,\n",
      "  File \"/home/kerido/.local/lib/python3.8/site-packages/kfp_server_api/api_client.py\", line 188, in __call_api\n",
      "    raise e\n",
      "  File \"/home/kerido/.local/lib/python3.8/site-packages/kfp_server_api/api_client.py\", line 181, in __call_api\n",
      "    response_data = self.request(\n",
      "  File \"/home/kerido/.local/lib/python3.8/site-packages/kfp_server_api/api_client.py\", line 389, in request\n",
      "    return self.rest_client.GET(url,\n",
      "  File \"/home/kerido/.local/lib/python3.8/site-packages/kfp_server_api/rest.py\", line 230, in GET\n",
      "    return self.request(\"GET\", url,\n",
      "  File \"/home/kerido/.local/lib/python3.8/site-packages/kfp_server_api/rest.py\", line 224, in request\n",
      "    raise ApiException(http_resp=r)\n",
      "kfp_server_api.exceptions.ApiException: (404)\n",
      "Reason: Not Found\n",
      "HTTP response headers: HTTPHeaderDict({'Audit-Id': '4ec5fd06-54cf-4f2f-816c-3bb571008de3', 'Cache-Control': 'no-cache, private', 'Content-Type': 'text/plain; charset=utf-8', 'Strict-Transport-Security': 'max-age=31536000; includeSubDomains; preload', 'X-Content-Type-Options': 'nosniff', 'X-Kubernetes-Pf-Flowschema-Uid': '70b1e8db-3edb-4379-90cb-d366a664bd4d', 'X-Kubernetes-Pf-Prioritylevel-Uid': 'e6206dc0-81c3-4064-b358-325dd3d1a032', 'Date': 'Mon, 04 Nov 2024 13:19:29 GMT', 'Content-Length': '19'})\n",
      "HTTP response body: 404 page not found\n",
      "\n",
      "\n"
     ]
    },
    {
     "name": "stderr",
     "output_type": "stream",
     "text": [
      "ERROR:root:Failed to get healthz info attempt 5 of 5.\n",
      "Traceback (most recent call last):\n",
      "  File \"/home/kerido/.local/lib/python3.8/site-packages/kfp/client/client.py\", line 435, in get_kfp_healthz\n",
      "    return self._healthz_api.get_healthz()\n",
      "  File \"/home/kerido/.local/lib/python3.8/site-packages/kfp_server_api/api/healthz_service_api.py\", line 63, in get_healthz\n",
      "    return self.get_healthz_with_http_info(**kwargs)  # noqa: E501\n",
      "  File \"/home/kerido/.local/lib/python3.8/site-packages/kfp_server_api/api/healthz_service_api.py\", line 134, in get_healthz_with_http_info\n",
      "    return self.api_client.call_api(\n",
      "  File \"/home/kerido/.local/lib/python3.8/site-packages/kfp_server_api/api_client.py\", line 364, in call_api\n",
      "    return self.__call_api(resource_path, method,\n",
      "  File \"/home/kerido/.local/lib/python3.8/site-packages/kfp_server_api/api_client.py\", line 188, in __call_api\n",
      "    raise e\n",
      "  File \"/home/kerido/.local/lib/python3.8/site-packages/kfp_server_api/api_client.py\", line 181, in __call_api\n",
      "    response_data = self.request(\n",
      "  File \"/home/kerido/.local/lib/python3.8/site-packages/kfp_server_api/api_client.py\", line 389, in request\n",
      "    return self.rest_client.GET(url,\n",
      "  File \"/home/kerido/.local/lib/python3.8/site-packages/kfp_server_api/rest.py\", line 230, in GET\n",
      "    return self.request(\"GET\", url,\n",
      "  File \"/home/kerido/.local/lib/python3.8/site-packages/kfp_server_api/rest.py\", line 224, in request\n",
      "    raise ApiException(http_resp=r)\n",
      "kfp_server_api.exceptions.ApiException: (404)\n",
      "Reason: Not Found\n",
      "HTTP response headers: HTTPHeaderDict({'Audit-Id': 'c697e430-caa8-48d5-99be-f026b0208b6e', 'Cache-Control': 'no-cache, private', 'Content-Type': 'text/plain; charset=utf-8', 'Strict-Transport-Security': 'max-age=31536000; includeSubDomains; preload', 'X-Content-Type-Options': 'nosniff', 'X-Kubernetes-Pf-Flowschema-Uid': '70b1e8db-3edb-4379-90cb-d366a664bd4d', 'X-Kubernetes-Pf-Prioritylevel-Uid': 'e6206dc0-81c3-4064-b358-325dd3d1a032', 'Date': 'Mon, 04 Nov 2024 13:19:34 GMT', 'Content-Length': '19'})\n",
      "HTTP response body: 404 page not found\n",
      "\n",
      "\n"
     ]
    },
    {
     "ename": "TimeoutError",
     "evalue": "Failed getting healthz endpoint after 5 attempts.",
     "output_type": "error",
     "traceback": [
      "\u001b[0;31m---------------------------------------------------------------------------\u001b[0m",
      "\u001b[0;31mTimeoutError\u001b[0m                              Traceback (most recent call last)",
      "Cell \u001b[0;32mIn[7], line 2\u001b[0m\n\u001b[1;32m      1\u001b[0m \u001b[38;5;66;03m# Run the Kubeflow Pipeline in the user's namespace.\u001b[39;00m\n\u001b[0;32m----> 2\u001b[0m \u001b[43mkfp\u001b[49m\u001b[38;5;241;43m.\u001b[39;49m\u001b[43mClient\u001b[49m\u001b[43m(\u001b[49m\u001b[43m)\u001b[49m\u001b[38;5;241m.\u001b[39mcreate_run_from_pipeline_func(katib_pipeline,  namespace\u001b[38;5;241m=\u001b[39mexperiment_namespace, arguments\u001b[38;5;241m=\u001b[39m{})\n",
      "File \u001b[0;32m~/.local/lib/python3.8/site-packages/kfp/client/client.py:203\u001b[0m, in \u001b[0;36mClient.__init__\u001b[0;34m(self, host, client_id, namespace, other_client_id, other_client_secret, existing_token, cookies, proxy, ssl_ca_cert, kube_context, credentials, ui_host, verify_ssl)\u001b[0m\n\u001b[1;32m    201\u001b[0m \u001b[38;5;28mself\u001b[39m\u001b[38;5;241m.\u001b[39m_upload_api \u001b[38;5;241m=\u001b[39m kfp_server_api\u001b[38;5;241m.\u001b[39mPipelineUploadServiceApi(api_client)\n\u001b[1;32m    202\u001b[0m \u001b[38;5;28mself\u001b[39m\u001b[38;5;241m.\u001b[39m_healthz_api \u001b[38;5;241m=\u001b[39m kfp_server_api\u001b[38;5;241m.\u001b[39mHealthzServiceApi(api_client)\n\u001b[0;32m--> 203\u001b[0m \u001b[38;5;28;01mif\u001b[39;00m \u001b[38;5;129;01mnot\u001b[39;00m \u001b[38;5;28mself\u001b[39m\u001b[38;5;241m.\u001b[39m_context_setting[\u001b[38;5;124m'\u001b[39m\u001b[38;5;124mnamespace\u001b[39m\u001b[38;5;124m'\u001b[39m] \u001b[38;5;129;01mand\u001b[39;00m \u001b[38;5;28;43mself\u001b[39;49m\u001b[38;5;241;43m.\u001b[39;49m\u001b[43mget_kfp_healthz\u001b[49m\u001b[43m(\u001b[49m\n\u001b[1;32m    204\u001b[0m \u001b[43m\u001b[49m\u001b[43m)\u001b[49m\u001b[38;5;241m.\u001b[39mmulti_user \u001b[38;5;129;01mis\u001b[39;00m \u001b[38;5;28;01mTrue\u001b[39;00m:\n\u001b[1;32m    205\u001b[0m     \u001b[38;5;28;01mtry\u001b[39;00m:\n\u001b[1;32m    206\u001b[0m         \u001b[38;5;28;01mwith\u001b[39;00m \u001b[38;5;28mopen\u001b[39m(Client\u001b[38;5;241m.\u001b[39m_NAMESPACE_PATH, \u001b[38;5;124m'\u001b[39m\u001b[38;5;124mr\u001b[39m\u001b[38;5;124m'\u001b[39m) \u001b[38;5;28;01mas\u001b[39;00m f:\n",
      "File \u001b[0;32m~/.local/lib/python3.8/site-packages/kfp/client/client.py:430\u001b[0m, in \u001b[0;36mClient.get_kfp_healthz\u001b[0;34m(self, sleep_duration)\u001b[0m\n\u001b[1;32m    428\u001b[0m count \u001b[38;5;241m+\u001b[39m\u001b[38;5;241m=\u001b[39m \u001b[38;5;241m1\u001b[39m\n\u001b[1;32m    429\u001b[0m \u001b[38;5;28;01mif\u001b[39;00m count \u001b[38;5;241m>\u001b[39m max_attempts:\n\u001b[0;32m--> 430\u001b[0m     \u001b[38;5;28;01mraise\u001b[39;00m \u001b[38;5;167;01mTimeoutError\u001b[39;00m(\n\u001b[1;32m    431\u001b[0m         \u001b[38;5;124mf\u001b[39m\u001b[38;5;124m'\u001b[39m\u001b[38;5;124mFailed getting healthz endpoint after \u001b[39m\u001b[38;5;132;01m{\u001b[39;00mmax_attempts\u001b[38;5;132;01m}\u001b[39;00m\u001b[38;5;124m attempts.\u001b[39m\u001b[38;5;124m'\u001b[39m\n\u001b[1;32m    432\u001b[0m     )\n\u001b[1;32m    434\u001b[0m \u001b[38;5;28;01mtry\u001b[39;00m:\n\u001b[1;32m    435\u001b[0m     \u001b[38;5;28;01mreturn\u001b[39;00m \u001b[38;5;28mself\u001b[39m\u001b[38;5;241m.\u001b[39m_healthz_api\u001b[38;5;241m.\u001b[39mget_healthz()\n",
      "\u001b[0;31mTimeoutError\u001b[0m: Failed getting healthz endpoint after 5 attempts."
     ]
    }
   ],
   "source": [
    "# Run the Kubeflow Pipeline in the user's namespace.\n",
    "kfp.Client().create_run_from_pipeline_func(katib_pipeline,  namespace=experiment_namespace, arguments={})"
   ]
  },
  {
   "cell_type": "code",
   "execution_count": null,
   "id": "079daa73",
   "metadata": {
    "papermill": {
     "duration": null,
     "end_time": null,
     "exception": null,
     "start_time": null,
     "status": "pending"
    },
    "tags": []
   },
   "outputs": [],
   "source": []
  }
 ],
 "metadata": {
  "kernelspec": {
   "display_name": "Python 3",
   "language": "python",
   "name": "python3"
  },
  "language_info": {
   "codemirror_mode": {
    "name": "ipython",
    "version": 3
   },
   "file_extension": ".py",
   "mimetype": "text/x-python",
   "name": "python",
   "nbconvert_exporter": "python",
   "pygments_lexer": "ipython3",
   "version": "3.8.10"
  },
  "papermill": {
   "default_parameters": {},
   "duration": 42.216418,
   "end_time": "2024-11-04T13:19:40.290021",
   "environment_variables": {},
   "exception": true,
   "input_path": "early-stopping.ipynb",
   "output_path": "early-stopping-output.ipynb",
   "parameters": {},
   "start_time": "2024-11-04T13:18:58.073603",
   "version": "2.6.0"
  }
 },
 "nbformat": 4,
 "nbformat_minor": 5
}